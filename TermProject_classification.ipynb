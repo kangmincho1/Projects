{
 "metadata": {
  "language_info": {
   "codemirror_mode": {
    "name": "ipython",
    "version": 3
   },
   "file_extension": ".py",
   "mimetype": "text/x-python",
   "name": "python",
   "nbconvert_exporter": "python",
   "pygments_lexer": "ipython3",
   "version": "3.7.4-final"
  },
  "orig_nbformat": 2,
  "kernelspec": {
   "name": "python3",
   "display_name": "Python 3",
   "language": "python"
  }
 },
 "nbformat": 4,
 "nbformat_minor": 2,
 "cells": [
  {
   "source": [
    "# Classification\n",
    "## Premier League 2018/2019 season W/D/L prediction program"
   ],
   "cell_type": "markdown",
   "metadata": {}
  },
  {
   "cell_type": "code",
   "execution_count": 1,
   "metadata": {},
   "outputs": [],
   "source": [
    "import pandas as pd \n",
    "import numpy as np \n",
    "import matplotlib.pyplot as plt \n",
    "\n",
    "%matplotlib inline"
   ]
  },
  {
   "cell_type": "code",
   "execution_count": 2,
   "metadata": {},
   "outputs": [
    {
     "output_type": "execute_result",
     "data": {
      "text/plain": [
       "    timestamp               date_GMT    status  attendance     home_team_name  \\\n",
       "0  1533927600   Aug 10 2018 - 7:00pm  complete       74439  Manchester United   \n",
       "1  1533987000  Aug 11 2018 - 11:30am  complete       51749   Newcastle United   \n",
       "2  1533996000   Aug 11 2018 - 2:00pm  complete       10353    AFC Bournemouth   \n",
       "3  1533996000   Aug 11 2018 - 2:00pm  complete       24821             Fulham   \n",
       "4  1533996000   Aug 11 2018 - 2:00pm  complete       24121  Huddersfield Town   \n",
       "\n",
       "      away_team_name          referee  Game Week  Pre-Match PPG (Home)  \\\n",
       "0     Leicester City   Andre Marriner          1                   0.0   \n",
       "1  Tottenham Hotspur  Martin Atkinson          1                   0.0   \n",
       "2       Cardiff City     Kevin Friend          1                   0.0   \n",
       "3     Crystal Palace        Mike Dean          1                   0.0   \n",
       "4            Chelsea   Chris Kavanagh          1                   0.0   \n",
       "\n",
       "   Pre-Match PPG (Away)  ...  odds_ft_home_team_win  odds_ft_draw  \\\n",
       "0                   0.0  ...                   1.37          4.98   \n",
       "1                   0.0  ...                   4.51          3.77   \n",
       "2                   0.0  ...                   2.03          3.51   \n",
       "3                   0.0  ...                   2.31          3.44   \n",
       "4                   0.0  ...                   7.47          4.27   \n",
       "\n",
       "   odds_ft_away_team_win  odds_ft_over15  odds_ft_over25  odds_ft_over35  \\\n",
       "0                   9.81            1.33            2.00            3.60   \n",
       "1                   1.84            1.31            1.95            3.50   \n",
       "2                   3.96            1.31            1.95            3.45   \n",
       "3                   3.26            1.28            1.87            3.20   \n",
       "4                   1.51            1.29            1.91            3.30   \n",
       "\n",
       "   odds_ft_over45  odds_btts_yes odds_btts_no  \\\n",
       "0            7.50           2.05         1.69   \n",
       "1            5.75           1.83         1.87   \n",
       "2            6.70           1.83         1.83   \n",
       "3            7.00           1.71         2.00   \n",
       "4            6.95           2.00         1.71   \n",
       "\n",
       "                                        stadium_name  \n",
       "0                          Old Trafford (Manchester)  \n",
       "1              St. James' Park (Newcastle upon Tyne)  \n",
       "2             Vitality Stadium (Bournemouth- Dorset)  \n",
       "3                            Craven Cottage (London)  \n",
       "4  John Smith's Stadium (Huddersfield- West Yorks...  \n",
       "\n",
       "[5 rows x 64 columns]"
      ],
      "text/html": "<div>\n<style scoped>\n    .dataframe tbody tr th:only-of-type {\n        vertical-align: middle;\n    }\n\n    .dataframe tbody tr th {\n        vertical-align: top;\n    }\n\n    .dataframe thead th {\n        text-align: right;\n    }\n</style>\n<table border=\"1\" class=\"dataframe\">\n  <thead>\n    <tr style=\"text-align: right;\">\n      <th></th>\n      <th>timestamp</th>\n      <th>date_GMT</th>\n      <th>status</th>\n      <th>attendance</th>\n      <th>home_team_name</th>\n      <th>away_team_name</th>\n      <th>referee</th>\n      <th>Game Week</th>\n      <th>Pre-Match PPG (Home)</th>\n      <th>Pre-Match PPG (Away)</th>\n      <th>...</th>\n      <th>odds_ft_home_team_win</th>\n      <th>odds_ft_draw</th>\n      <th>odds_ft_away_team_win</th>\n      <th>odds_ft_over15</th>\n      <th>odds_ft_over25</th>\n      <th>odds_ft_over35</th>\n      <th>odds_ft_over45</th>\n      <th>odds_btts_yes</th>\n      <th>odds_btts_no</th>\n      <th>stadium_name</th>\n    </tr>\n  </thead>\n  <tbody>\n    <tr>\n      <td>0</td>\n      <td>1533927600</td>\n      <td>Aug 10 2018 - 7:00pm</td>\n      <td>complete</td>\n      <td>74439</td>\n      <td>Manchester United</td>\n      <td>Leicester City</td>\n      <td>Andre Marriner</td>\n      <td>1</td>\n      <td>0.0</td>\n      <td>0.0</td>\n      <td>...</td>\n      <td>1.37</td>\n      <td>4.98</td>\n      <td>9.81</td>\n      <td>1.33</td>\n      <td>2.00</td>\n      <td>3.60</td>\n      <td>7.50</td>\n      <td>2.05</td>\n      <td>1.69</td>\n      <td>Old Trafford (Manchester)</td>\n    </tr>\n    <tr>\n      <td>1</td>\n      <td>1533987000</td>\n      <td>Aug 11 2018 - 11:30am</td>\n      <td>complete</td>\n      <td>51749</td>\n      <td>Newcastle United</td>\n      <td>Tottenham Hotspur</td>\n      <td>Martin Atkinson</td>\n      <td>1</td>\n      <td>0.0</td>\n      <td>0.0</td>\n      <td>...</td>\n      <td>4.51</td>\n      <td>3.77</td>\n      <td>1.84</td>\n      <td>1.31</td>\n      <td>1.95</td>\n      <td>3.50</td>\n      <td>5.75</td>\n      <td>1.83</td>\n      <td>1.87</td>\n      <td>St. James' Park (Newcastle upon Tyne)</td>\n    </tr>\n    <tr>\n      <td>2</td>\n      <td>1533996000</td>\n      <td>Aug 11 2018 - 2:00pm</td>\n      <td>complete</td>\n      <td>10353</td>\n      <td>AFC Bournemouth</td>\n      <td>Cardiff City</td>\n      <td>Kevin Friend</td>\n      <td>1</td>\n      <td>0.0</td>\n      <td>0.0</td>\n      <td>...</td>\n      <td>2.03</td>\n      <td>3.51</td>\n      <td>3.96</td>\n      <td>1.31</td>\n      <td>1.95</td>\n      <td>3.45</td>\n      <td>6.70</td>\n      <td>1.83</td>\n      <td>1.83</td>\n      <td>Vitality Stadium (Bournemouth- Dorset)</td>\n    </tr>\n    <tr>\n      <td>3</td>\n      <td>1533996000</td>\n      <td>Aug 11 2018 - 2:00pm</td>\n      <td>complete</td>\n      <td>24821</td>\n      <td>Fulham</td>\n      <td>Crystal Palace</td>\n      <td>Mike Dean</td>\n      <td>1</td>\n      <td>0.0</td>\n      <td>0.0</td>\n      <td>...</td>\n      <td>2.31</td>\n      <td>3.44</td>\n      <td>3.26</td>\n      <td>1.28</td>\n      <td>1.87</td>\n      <td>3.20</td>\n      <td>7.00</td>\n      <td>1.71</td>\n      <td>2.00</td>\n      <td>Craven Cottage (London)</td>\n    </tr>\n    <tr>\n      <td>4</td>\n      <td>1533996000</td>\n      <td>Aug 11 2018 - 2:00pm</td>\n      <td>complete</td>\n      <td>24121</td>\n      <td>Huddersfield Town</td>\n      <td>Chelsea</td>\n      <td>Chris Kavanagh</td>\n      <td>1</td>\n      <td>0.0</td>\n      <td>0.0</td>\n      <td>...</td>\n      <td>7.47</td>\n      <td>4.27</td>\n      <td>1.51</td>\n      <td>1.29</td>\n      <td>1.91</td>\n      <td>3.30</td>\n      <td>6.95</td>\n      <td>2.00</td>\n      <td>1.71</td>\n      <td>John Smith's Stadium (Huddersfield- West Yorks...</td>\n    </tr>\n  </tbody>\n</table>\n<p>5 rows × 64 columns</p>\n</div>"
     },
     "metadata": {},
     "execution_count": 2
    }
   ],
   "source": [
    "df = pd.read_csv(r'D:\\git_space\\data\\Premier-League_18-19seasons_matches.csv')\n",
    "df.head()"
   ]
  },
  {
   "cell_type": "code",
   "execution_count": 3,
   "metadata": {},
   "outputs": [
    {
     "output_type": "execute_result",
     "data": {
      "text/plain": [
       "Index(['timestamp', 'date_GMT', 'status', 'attendance', 'home_team_name',\n",
       "       'away_team_name', 'referee', 'Game Week', 'Pre-Match PPG (Home)',\n",
       "       'Pre-Match PPG (Away)', 'home_ppg', 'away_ppg', 'home_team_goal_count',\n",
       "       'away_team_goal_count', 'total_goal_count', 'total_goals_at_half_time',\n",
       "       'home_team_goal_count_half_time', 'away_team_goal_count_half_time',\n",
       "       'home_team_goal_timings', 'away_team_goal_timings',\n",
       "       'home_team_corner_count', 'away_team_corner_count',\n",
       "       'home_team_yellow_cards', 'home_team_red_cards',\n",
       "       'away_team_yellow_cards', 'away_team_red_cards',\n",
       "       'home_team_first_half_cards', 'home_team_second_half_cards',\n",
       "       'away_team_first_half_cards', 'away_team_second_half_cards',\n",
       "       'home_team_shots', 'away_team_shots', 'home_team_shots_on_target',\n",
       "       'away_team_shots_on_target', 'home_team_shots_off_target',\n",
       "       'away_team_shots_off_target', 'home_team_fouls', 'away_team_fouls',\n",
       "       'home_team_possession', 'away_team_possession', 'team_a_xg',\n",
       "       'team_b_xg', 'average_goals_per_match_pre_match',\n",
       "       'btts_percentage_pre_match', 'over_15_percentage_pre_match',\n",
       "       'over_25_percentage_pre_match', 'over_35_percentage_pre_match',\n",
       "       'over_45_percentage_pre_match', 'over_15_HT_FHG_percentage_pre_match',\n",
       "       'over_05_HT_FHG_percentage_pre_match',\n",
       "       'over_15_2HG_percentage_pre_match', 'over_05_2HG_percentage_pre_match',\n",
       "       'average_corners_per_match_pre_match',\n",
       "       'average_cards_per_match_pre_match', 'odds_ft_home_team_win',\n",
       "       'odds_ft_draw', 'odds_ft_away_team_win', 'odds_ft_over15',\n",
       "       'odds_ft_over25', 'odds_ft_over35', 'odds_ft_over45', 'odds_btts_yes',\n",
       "       'odds_btts_no', 'stadium_name'],\n",
       "      dtype='object')"
      ]
     },
     "metadata": {},
     "execution_count": 3
    }
   ],
   "source": [
    "df.columns"
   ]
  },
  {
   "cell_type": "code",
   "execution_count": 4,
   "metadata": {},
   "outputs": [
    {
     "output_type": "stream",
     "name": "stdout",
     "text": [
      "<class 'pandas.core.frame.DataFrame'>\nRangeIndex: 380 entries, 0 to 379\nData columns (total 64 columns):\ntimestamp                              380 non-null int64\ndate_GMT                               380 non-null object\nstatus                                 380 non-null object\nattendance                             380 non-null int64\nhome_team_name                         380 non-null object\naway_team_name                         380 non-null object\nreferee                                380 non-null object\nGame Week                              380 non-null int64\nPre-Match PPG (Home)                   380 non-null float64\nPre-Match PPG (Away)                   380 non-null float64\nhome_ppg                               380 non-null float64\naway_ppg                               380 non-null float64\nhome_team_goal_count                   380 non-null int64\naway_team_goal_count                   380 non-null int64\ntotal_goal_count                       380 non-null int64\ntotal_goals_at_half_time               380 non-null int64\nhome_team_goal_count_half_time         380 non-null int64\naway_team_goal_count_half_time         380 non-null int64\nhome_team_goal_timings                 292 non-null object\naway_team_goal_timings                 261 non-null object\nhome_team_corner_count                 380 non-null int64\naway_team_corner_count                 380 non-null int64\nhome_team_yellow_cards                 380 non-null int64\nhome_team_red_cards                    380 non-null int64\naway_team_yellow_cards                 380 non-null int64\naway_team_red_cards                    380 non-null int64\nhome_team_first_half_cards             380 non-null int64\nhome_team_second_half_cards            380 non-null int64\naway_team_first_half_cards             380 non-null int64\naway_team_second_half_cards            380 non-null int64\nhome_team_shots                        380 non-null int64\naway_team_shots                        380 non-null int64\nhome_team_shots_on_target              380 non-null int64\naway_team_shots_on_target              380 non-null int64\nhome_team_shots_off_target             380 non-null int64\naway_team_shots_off_target             380 non-null int64\nhome_team_fouls                        380 non-null int64\naway_team_fouls                        380 non-null int64\nhome_team_possession                   380 non-null int64\naway_team_possession                   380 non-null int64\nteam_a_xg                              380 non-null float64\nteam_b_xg                              380 non-null float64\naverage_goals_per_match_pre_match      380 non-null float64\nbtts_percentage_pre_match              380 non-null int64\nover_15_percentage_pre_match           380 non-null int64\nover_25_percentage_pre_match           380 non-null int64\nover_35_percentage_pre_match           380 non-null int64\nover_45_percentage_pre_match           380 non-null int64\nover_15_HT_FHG_percentage_pre_match    380 non-null int64\nover_05_HT_FHG_percentage_pre_match    380 non-null int64\nover_15_2HG_percentage_pre_match       380 non-null int64\nover_05_2HG_percentage_pre_match       380 non-null int64\naverage_corners_per_match_pre_match    380 non-null float64\naverage_cards_per_match_pre_match      380 non-null float64\nodds_ft_home_team_win                  380 non-null float64\nodds_ft_draw                           380 non-null float64\nodds_ft_away_team_win                  380 non-null float64\nodds_ft_over15                         380 non-null float64\nodds_ft_over25                         380 non-null float64\nodds_ft_over35                         380 non-null float64\nodds_ft_over45                         380 non-null float64\nodds_btts_yes                          380 non-null float64\nodds_btts_no                           380 non-null float64\nstadium_name                           380 non-null object\ndtypes: float64(18), int64(38), object(8)\nmemory usage: 190.1+ KB\n"
     ]
    }
   ],
   "source": [
    "df.info()"
   ]
  },
  {
   "cell_type": "code",
   "execution_count": 5,
   "metadata": {},
   "outputs": [
    {
     "output_type": "execute_result",
     "data": {
      "text/plain": [
       "timestamp         0\n",
       "date_GMT          0\n",
       "status            0\n",
       "attendance        0\n",
       "home_team_name    0\n",
       "                 ..\n",
       "odds_ft_over35    0\n",
       "odds_ft_over45    0\n",
       "odds_btts_yes     0\n",
       "odds_btts_no      0\n",
       "stadium_name      0\n",
       "Length: 64, dtype: int64"
      ]
     },
     "metadata": {},
     "execution_count": 5
    }
   ],
   "source": [
    "df.isnull().sum()"
   ]
  },
  {
   "cell_type": "code",
   "execution_count": 6,
   "metadata": {},
   "outputs": [
    {
     "output_type": "execute_result",
     "data": {
      "text/plain": [
       "      home_team_name     away_team_name  home_ppg  away_ppg  \\\n",
       "0  Manchester United     Leicester City      1.89      1.32   \n",
       "1   Newcastle United  Tottenham Hotspur      1.32      1.74   \n",
       "2    AFC Bournemouth       Cardiff City      1.53      0.74   \n",
       "3             Fulham     Crystal Palace      1.11      1.53   \n",
       "4  Huddersfield Town            Chelsea      0.47      1.58   \n",
       "\n",
       "   home_team_goal_count  away_team_goal_count  team_a_xg  team_b_xg  \\\n",
       "0                     2                     1       1.25       1.46   \n",
       "1                     1                     2       1.18       1.58   \n",
       "2                     2                     0       1.50       0.89   \n",
       "3                     0                     2       1.67       1.81   \n",
       "4                     0                     3       0.90       1.17   \n",
       "\n",
       "   odds_ft_home_team_win  odds_ft_draw  odds_ft_away_team_win  \n",
       "0                   1.37          4.98                   9.81  \n",
       "1                   4.51          3.77                   1.84  \n",
       "2                   2.03          3.51                   3.96  \n",
       "3                   2.31          3.44                   3.26  \n",
       "4                   7.47          4.27                   1.51  "
      ],
      "text/html": "<div>\n<style scoped>\n    .dataframe tbody tr th:only-of-type {\n        vertical-align: middle;\n    }\n\n    .dataframe tbody tr th {\n        vertical-align: top;\n    }\n\n    .dataframe thead th {\n        text-align: right;\n    }\n</style>\n<table border=\"1\" class=\"dataframe\">\n  <thead>\n    <tr style=\"text-align: right;\">\n      <th></th>\n      <th>home_team_name</th>\n      <th>away_team_name</th>\n      <th>home_ppg</th>\n      <th>away_ppg</th>\n      <th>home_team_goal_count</th>\n      <th>away_team_goal_count</th>\n      <th>team_a_xg</th>\n      <th>team_b_xg</th>\n      <th>odds_ft_home_team_win</th>\n      <th>odds_ft_draw</th>\n      <th>odds_ft_away_team_win</th>\n    </tr>\n  </thead>\n  <tbody>\n    <tr>\n      <td>0</td>\n      <td>Manchester United</td>\n      <td>Leicester City</td>\n      <td>1.89</td>\n      <td>1.32</td>\n      <td>2</td>\n      <td>1</td>\n      <td>1.25</td>\n      <td>1.46</td>\n      <td>1.37</td>\n      <td>4.98</td>\n      <td>9.81</td>\n    </tr>\n    <tr>\n      <td>1</td>\n      <td>Newcastle United</td>\n      <td>Tottenham Hotspur</td>\n      <td>1.32</td>\n      <td>1.74</td>\n      <td>1</td>\n      <td>2</td>\n      <td>1.18</td>\n      <td>1.58</td>\n      <td>4.51</td>\n      <td>3.77</td>\n      <td>1.84</td>\n    </tr>\n    <tr>\n      <td>2</td>\n      <td>AFC Bournemouth</td>\n      <td>Cardiff City</td>\n      <td>1.53</td>\n      <td>0.74</td>\n      <td>2</td>\n      <td>0</td>\n      <td>1.50</td>\n      <td>0.89</td>\n      <td>2.03</td>\n      <td>3.51</td>\n      <td>3.96</td>\n    </tr>\n    <tr>\n      <td>3</td>\n      <td>Fulham</td>\n      <td>Crystal Palace</td>\n      <td>1.11</td>\n      <td>1.53</td>\n      <td>0</td>\n      <td>2</td>\n      <td>1.67</td>\n      <td>1.81</td>\n      <td>2.31</td>\n      <td>3.44</td>\n      <td>3.26</td>\n    </tr>\n    <tr>\n      <td>4</td>\n      <td>Huddersfield Town</td>\n      <td>Chelsea</td>\n      <td>0.47</td>\n      <td>1.58</td>\n      <td>0</td>\n      <td>3</td>\n      <td>0.90</td>\n      <td>1.17</td>\n      <td>7.47</td>\n      <td>4.27</td>\n      <td>1.51</td>\n    </tr>\n  </tbody>\n</table>\n</div>"
     },
     "metadata": {},
     "execution_count": 6
    }
   ],
   "source": [
    "# 의미없는 column 삭제\n",
    "meaningless_data = ['timestamp', 'date_GMT', 'status', 'attendance', 'referee', 'Game Week', 'Pre-Match PPG (Home)', 'Pre-Match PPG (Away)',                  'average_goals_per_match_pre_match', 'btts_percentage_pre_match', 'over_15_percentage_pre_match', 'over_25_percentage_pre_match', 'over_35_percentage_pre_match', 'over_45_percentage_pre_match', 'over_15_HT_FHG_percentage_pre_match', 'over_05_HT_FHG_percentage_pre_match', 'over_15_2HG_percentage_pre_match', 'over_05_2HG_percentage_pre_match', 'average_corners_per_match_pre_match', 'average_cards_per_match_pre_match', 'odds_ft_over15', 'odds_ft_over25', 'odds_ft_over35', 'odds_ft_over45', 'odds_btts_yes', 'odds_btts_no', 'stadium_name']\n",
    "\n",
    "# 경기시작 전에 알 수 없는 column 삭제(예측을 해야 하기 때문에 경기 기록 data를 사용하면 안된다)\n",
    "unknown_data = ['total_goal_count', 'total_goals_at_half_time', 'home_team_goal_count_half_time', 'away_team_goal_count_half_time', 'home_team_goal_timings', 'away_team_goal_timings', 'home_team_corner_count', 'away_team_corner_count', 'home_team_yellow_cards', 'home_team_red_cards', 'away_team_yellow_cards', 'away_team_red_cards', 'home_team_first_half_cards', 'home_team_second_half_cards', 'away_team_first_half_cards', 'away_team_second_half_cards', 'home_team_shots', 'away_team_shots', 'home_team_shots_on_target', 'away_team_shots_on_target', 'home_team_shots_off_target', 'away_team_shots_off_target', 'home_team_fouls', 'away_team_fouls', 'home_team_possession', 'away_team_possession',]\n",
    "\n",
    "df = df.drop(meaningless_data + unknown_data, axis=1)\n",
    "\n",
    "df.head()"
   ]
  },
  {
   "cell_type": "code",
   "execution_count": 7,
   "metadata": {},
   "outputs": [
    {
     "output_type": "execute_result",
     "data": {
      "text/plain": [
       "        home_team_name           away_team_name  home_ppg  away_ppg  \\\n",
       "0    Manchester United           Leicester City      1.89      1.32   \n",
       "1     Newcastle United        Tottenham Hotspur      1.32      1.74   \n",
       "2      AFC Bournemouth             Cardiff City      1.53      0.74   \n",
       "3               Fulham           Crystal Palace      1.11      1.53   \n",
       "4    Huddersfield Town                  Chelsea      0.47      1.58   \n",
       "..                 ...                      ...       ...       ...   \n",
       "375          Liverpool  Wolverhampton Wanderers      2.79      1.21   \n",
       "376  Manchester United             Cardiff City      1.89      0.74   \n",
       "377        Southampton        Huddersfield Town      1.21      0.37   \n",
       "378  Tottenham Hotspur                  Everton      2.00      1.05   \n",
       "379            Watford          West Ham United      1.42      1.11   \n",
       "\n",
       "     home_team_goal_count  away_team_goal_count  team_a_xg  team_b_xg  \\\n",
       "0                       2                     1       1.25       1.46   \n",
       "1                       1                     2       1.18       1.58   \n",
       "2                       2                     0       1.50       0.89   \n",
       "3                       0                     2       1.67       1.81   \n",
       "4                       0                     3       0.90       1.17   \n",
       "..                    ...                   ...        ...        ...   \n",
       "375                     2                     0       1.40       0.92   \n",
       "376                     0                     2       2.67       1.31   \n",
       "377                     1                     1       1.15       1.04   \n",
       "378                     2                     2       1.23       1.80   \n",
       "379                     1                     4       1.81       2.01   \n",
       "\n",
       "     odds_ft_home_team_win  odds_ft_draw  odds_ft_away_team_win  difference  \\\n",
       "0                     1.37          4.98                   9.81           1   \n",
       "1                     4.51          3.77                   1.84          -1   \n",
       "2                     2.03          3.51                   3.96           2   \n",
       "3                     2.31          3.44                   3.26          -2   \n",
       "4                     7.47          4.27                   1.51          -3   \n",
       "..                     ...           ...                    ...         ...   \n",
       "375                   1.32          5.80                   9.00           2   \n",
       "376                   1.28          6.20                  10.00          -2   \n",
       "377                   1.41          4.90                   7.50           0   \n",
       "378                   2.10          3.50                   3.55           0   \n",
       "379                   2.20          3.70                   3.10          -3   \n",
       "\n",
       "     home_team_result  \n",
       "0                   2  \n",
       "1                   0  \n",
       "2                   2  \n",
       "3                   0  \n",
       "4                   0  \n",
       "..                ...  \n",
       "375                 2  \n",
       "376                 0  \n",
       "377                 1  \n",
       "378                 1  \n",
       "379                 0  \n",
       "\n",
       "[380 rows x 13 columns]"
      ],
      "text/html": "<div>\n<style scoped>\n    .dataframe tbody tr th:only-of-type {\n        vertical-align: middle;\n    }\n\n    .dataframe tbody tr th {\n        vertical-align: top;\n    }\n\n    .dataframe thead th {\n        text-align: right;\n    }\n</style>\n<table border=\"1\" class=\"dataframe\">\n  <thead>\n    <tr style=\"text-align: right;\">\n      <th></th>\n      <th>home_team_name</th>\n      <th>away_team_name</th>\n      <th>home_ppg</th>\n      <th>away_ppg</th>\n      <th>home_team_goal_count</th>\n      <th>away_team_goal_count</th>\n      <th>team_a_xg</th>\n      <th>team_b_xg</th>\n      <th>odds_ft_home_team_win</th>\n      <th>odds_ft_draw</th>\n      <th>odds_ft_away_team_win</th>\n      <th>difference</th>\n      <th>home_team_result</th>\n    </tr>\n  </thead>\n  <tbody>\n    <tr>\n      <td>0</td>\n      <td>Manchester United</td>\n      <td>Leicester City</td>\n      <td>1.89</td>\n      <td>1.32</td>\n      <td>2</td>\n      <td>1</td>\n      <td>1.25</td>\n      <td>1.46</td>\n      <td>1.37</td>\n      <td>4.98</td>\n      <td>9.81</td>\n      <td>1</td>\n      <td>2</td>\n    </tr>\n    <tr>\n      <td>1</td>\n      <td>Newcastle United</td>\n      <td>Tottenham Hotspur</td>\n      <td>1.32</td>\n      <td>1.74</td>\n      <td>1</td>\n      <td>2</td>\n      <td>1.18</td>\n      <td>1.58</td>\n      <td>4.51</td>\n      <td>3.77</td>\n      <td>1.84</td>\n      <td>-1</td>\n      <td>0</td>\n    </tr>\n    <tr>\n      <td>2</td>\n      <td>AFC Bournemouth</td>\n      <td>Cardiff City</td>\n      <td>1.53</td>\n      <td>0.74</td>\n      <td>2</td>\n      <td>0</td>\n      <td>1.50</td>\n      <td>0.89</td>\n      <td>2.03</td>\n      <td>3.51</td>\n      <td>3.96</td>\n      <td>2</td>\n      <td>2</td>\n    </tr>\n    <tr>\n      <td>3</td>\n      <td>Fulham</td>\n      <td>Crystal Palace</td>\n      <td>1.11</td>\n      <td>1.53</td>\n      <td>0</td>\n      <td>2</td>\n      <td>1.67</td>\n      <td>1.81</td>\n      <td>2.31</td>\n      <td>3.44</td>\n      <td>3.26</td>\n      <td>-2</td>\n      <td>0</td>\n    </tr>\n    <tr>\n      <td>4</td>\n      <td>Huddersfield Town</td>\n      <td>Chelsea</td>\n      <td>0.47</td>\n      <td>1.58</td>\n      <td>0</td>\n      <td>3</td>\n      <td>0.90</td>\n      <td>1.17</td>\n      <td>7.47</td>\n      <td>4.27</td>\n      <td>1.51</td>\n      <td>-3</td>\n      <td>0</td>\n    </tr>\n    <tr>\n      <td>...</td>\n      <td>...</td>\n      <td>...</td>\n      <td>...</td>\n      <td>...</td>\n      <td>...</td>\n      <td>...</td>\n      <td>...</td>\n      <td>...</td>\n      <td>...</td>\n      <td>...</td>\n      <td>...</td>\n      <td>...</td>\n      <td>...</td>\n    </tr>\n    <tr>\n      <td>375</td>\n      <td>Liverpool</td>\n      <td>Wolverhampton Wanderers</td>\n      <td>2.79</td>\n      <td>1.21</td>\n      <td>2</td>\n      <td>0</td>\n      <td>1.40</td>\n      <td>0.92</td>\n      <td>1.32</td>\n      <td>5.80</td>\n      <td>9.00</td>\n      <td>2</td>\n      <td>2</td>\n    </tr>\n    <tr>\n      <td>376</td>\n      <td>Manchester United</td>\n      <td>Cardiff City</td>\n      <td>1.89</td>\n      <td>0.74</td>\n      <td>0</td>\n      <td>2</td>\n      <td>2.67</td>\n      <td>1.31</td>\n      <td>1.28</td>\n      <td>6.20</td>\n      <td>10.00</td>\n      <td>-2</td>\n      <td>0</td>\n    </tr>\n    <tr>\n      <td>377</td>\n      <td>Southampton</td>\n      <td>Huddersfield Town</td>\n      <td>1.21</td>\n      <td>0.37</td>\n      <td>1</td>\n      <td>1</td>\n      <td>1.15</td>\n      <td>1.04</td>\n      <td>1.41</td>\n      <td>4.90</td>\n      <td>7.50</td>\n      <td>0</td>\n      <td>1</td>\n    </tr>\n    <tr>\n      <td>378</td>\n      <td>Tottenham Hotspur</td>\n      <td>Everton</td>\n      <td>2.00</td>\n      <td>1.05</td>\n      <td>2</td>\n      <td>2</td>\n      <td>1.23</td>\n      <td>1.80</td>\n      <td>2.10</td>\n      <td>3.50</td>\n      <td>3.55</td>\n      <td>0</td>\n      <td>1</td>\n    </tr>\n    <tr>\n      <td>379</td>\n      <td>Watford</td>\n      <td>West Ham United</td>\n      <td>1.42</td>\n      <td>1.11</td>\n      <td>1</td>\n      <td>4</td>\n      <td>1.81</td>\n      <td>2.01</td>\n      <td>2.20</td>\n      <td>3.70</td>\n      <td>3.10</td>\n      <td>-3</td>\n      <td>0</td>\n    </tr>\n  </tbody>\n</table>\n<p>380 rows × 13 columns</p>\n</div>"
     },
     "metadata": {},
     "execution_count": 7
    }
   ],
   "source": [
    "# 홈팀 득점 수 - 어웨이팀 득점 수 column 생성\n",
    "df['difference'] = df['home_team_goal_count'] - df['away_team_goal_count']\n",
    "df.head()\n",
    "\n",
    "# difference column의 data가 양수(홈팀 승)면 2반환, 0(무승부)이면 1반환, 음수(홈팀 패)면 0반환\n",
    "def func(x):\n",
    "    if x > 0:\n",
    "        return 2\n",
    "    elif x == 0:\n",
    "        return 1\n",
    "    else:\n",
    "        return 0\n",
    "\n",
    "# 홈팀의 승무패 정보를 담는 column 생성\n",
    "df['home_team_result'] = df['difference'].apply(lambda x : func(x))\n",
    "df"
   ]
  },
  {
   "cell_type": "code",
   "execution_count": 8,
   "metadata": {},
   "outputs": [
    {
     "output_type": "execute_result",
     "data": {
      "text/plain": [
       "        home_team_name           away_team_name  home_ppg  away_ppg  \\\n",
       "0    Manchester United           Leicester City      1.89      1.32   \n",
       "1     Newcastle United        Tottenham Hotspur      1.32      1.74   \n",
       "2      AFC Bournemouth             Cardiff City      1.53      0.74   \n",
       "3               Fulham           Crystal Palace      1.11      1.53   \n",
       "4    Huddersfield Town                  Chelsea      0.47      1.58   \n",
       "..                 ...                      ...       ...       ...   \n",
       "375          Liverpool  Wolverhampton Wanderers      2.79      1.21   \n",
       "376  Manchester United             Cardiff City      1.89      0.74   \n",
       "377        Southampton        Huddersfield Town      1.21      0.37   \n",
       "378  Tottenham Hotspur                  Everton      2.00      1.05   \n",
       "379            Watford          West Ham United      1.42      1.11   \n",
       "\n",
       "     team_a_xg  team_b_xg  odds_ft_home_team_win  odds_ft_draw  \\\n",
       "0         1.25       1.46                   1.37          4.98   \n",
       "1         1.18       1.58                   4.51          3.77   \n",
       "2         1.50       0.89                   2.03          3.51   \n",
       "3         1.67       1.81                   2.31          3.44   \n",
       "4         0.90       1.17                   7.47          4.27   \n",
       "..         ...        ...                    ...           ...   \n",
       "375       1.40       0.92                   1.32          5.80   \n",
       "376       2.67       1.31                   1.28          6.20   \n",
       "377       1.15       1.04                   1.41          4.90   \n",
       "378       1.23       1.80                   2.10          3.50   \n",
       "379       1.81       2.01                   2.20          3.70   \n",
       "\n",
       "     odds_ft_away_team_win  home_team_result  \n",
       "0                     9.81                 2  \n",
       "1                     1.84                 0  \n",
       "2                     3.96                 2  \n",
       "3                     3.26                 0  \n",
       "4                     1.51                 0  \n",
       "..                     ...               ...  \n",
       "375                   9.00                 2  \n",
       "376                  10.00                 0  \n",
       "377                   7.50                 1  \n",
       "378                   3.55                 1  \n",
       "379                   3.10                 0  \n",
       "\n",
       "[380 rows x 10 columns]"
      ],
      "text/html": "<div>\n<style scoped>\n    .dataframe tbody tr th:only-of-type {\n        vertical-align: middle;\n    }\n\n    .dataframe tbody tr th {\n        vertical-align: top;\n    }\n\n    .dataframe thead th {\n        text-align: right;\n    }\n</style>\n<table border=\"1\" class=\"dataframe\">\n  <thead>\n    <tr style=\"text-align: right;\">\n      <th></th>\n      <th>home_team_name</th>\n      <th>away_team_name</th>\n      <th>home_ppg</th>\n      <th>away_ppg</th>\n      <th>team_a_xg</th>\n      <th>team_b_xg</th>\n      <th>odds_ft_home_team_win</th>\n      <th>odds_ft_draw</th>\n      <th>odds_ft_away_team_win</th>\n      <th>home_team_result</th>\n    </tr>\n  </thead>\n  <tbody>\n    <tr>\n      <td>0</td>\n      <td>Manchester United</td>\n      <td>Leicester City</td>\n      <td>1.89</td>\n      <td>1.32</td>\n      <td>1.25</td>\n      <td>1.46</td>\n      <td>1.37</td>\n      <td>4.98</td>\n      <td>9.81</td>\n      <td>2</td>\n    </tr>\n    <tr>\n      <td>1</td>\n      <td>Newcastle United</td>\n      <td>Tottenham Hotspur</td>\n      <td>1.32</td>\n      <td>1.74</td>\n      <td>1.18</td>\n      <td>1.58</td>\n      <td>4.51</td>\n      <td>3.77</td>\n      <td>1.84</td>\n      <td>0</td>\n    </tr>\n    <tr>\n      <td>2</td>\n      <td>AFC Bournemouth</td>\n      <td>Cardiff City</td>\n      <td>1.53</td>\n      <td>0.74</td>\n      <td>1.50</td>\n      <td>0.89</td>\n      <td>2.03</td>\n      <td>3.51</td>\n      <td>3.96</td>\n      <td>2</td>\n    </tr>\n    <tr>\n      <td>3</td>\n      <td>Fulham</td>\n      <td>Crystal Palace</td>\n      <td>1.11</td>\n      <td>1.53</td>\n      <td>1.67</td>\n      <td>1.81</td>\n      <td>2.31</td>\n      <td>3.44</td>\n      <td>3.26</td>\n      <td>0</td>\n    </tr>\n    <tr>\n      <td>4</td>\n      <td>Huddersfield Town</td>\n      <td>Chelsea</td>\n      <td>0.47</td>\n      <td>1.58</td>\n      <td>0.90</td>\n      <td>1.17</td>\n      <td>7.47</td>\n      <td>4.27</td>\n      <td>1.51</td>\n      <td>0</td>\n    </tr>\n    <tr>\n      <td>...</td>\n      <td>...</td>\n      <td>...</td>\n      <td>...</td>\n      <td>...</td>\n      <td>...</td>\n      <td>...</td>\n      <td>...</td>\n      <td>...</td>\n      <td>...</td>\n      <td>...</td>\n    </tr>\n    <tr>\n      <td>375</td>\n      <td>Liverpool</td>\n      <td>Wolverhampton Wanderers</td>\n      <td>2.79</td>\n      <td>1.21</td>\n      <td>1.40</td>\n      <td>0.92</td>\n      <td>1.32</td>\n      <td>5.80</td>\n      <td>9.00</td>\n      <td>2</td>\n    </tr>\n    <tr>\n      <td>376</td>\n      <td>Manchester United</td>\n      <td>Cardiff City</td>\n      <td>1.89</td>\n      <td>0.74</td>\n      <td>2.67</td>\n      <td>1.31</td>\n      <td>1.28</td>\n      <td>6.20</td>\n      <td>10.00</td>\n      <td>0</td>\n    </tr>\n    <tr>\n      <td>377</td>\n      <td>Southampton</td>\n      <td>Huddersfield Town</td>\n      <td>1.21</td>\n      <td>0.37</td>\n      <td>1.15</td>\n      <td>1.04</td>\n      <td>1.41</td>\n      <td>4.90</td>\n      <td>7.50</td>\n      <td>1</td>\n    </tr>\n    <tr>\n      <td>378</td>\n      <td>Tottenham Hotspur</td>\n      <td>Everton</td>\n      <td>2.00</td>\n      <td>1.05</td>\n      <td>1.23</td>\n      <td>1.80</td>\n      <td>2.10</td>\n      <td>3.50</td>\n      <td>3.55</td>\n      <td>1</td>\n    </tr>\n    <tr>\n      <td>379</td>\n      <td>Watford</td>\n      <td>West Ham United</td>\n      <td>1.42</td>\n      <td>1.11</td>\n      <td>1.81</td>\n      <td>2.01</td>\n      <td>2.20</td>\n      <td>3.70</td>\n      <td>3.10</td>\n      <td>0</td>\n    </tr>\n  </tbody>\n</table>\n<p>380 rows × 10 columns</p>\n</div>"
     },
     "metadata": {},
     "execution_count": 8
    }
   ],
   "source": [
    "# 팀의 정보를 하나의 column에 담았으니 쓸모 없어진 홈팀, 어웨이팀 득점 수, difference column은 삭제한다\n",
    "\n",
    "df.drop(['home_team_goal_count', 'away_team_goal_count', 'difference'], axis=1, inplace=True)\n",
    "df"
   ]
  },
  {
   "cell_type": "code",
   "execution_count": 9,
   "metadata": {},
   "outputs": [
    {
     "output_type": "execute_result",
     "data": {
      "text/plain": [
       "Wolverhampton Wanderers    19\n",
       "West Ham United            19\n",
       "Crystal Palace             19\n",
       "AFC Bournemouth            19\n",
       "Watford                    19\n",
       "Burnley                    19\n",
       "Manchester United          19\n",
       "Fulham                     19\n",
       "Huddersfield Town          19\n",
       "Leicester City             19\n",
       "Tottenham Hotspur          19\n",
       "Liverpool                  19\n",
       "Chelsea                    19\n",
       "Manchester City            19\n",
       "Cardiff City               19\n",
       "Everton                    19\n",
       "Brighton & Hove Albion     19\n",
       "Newcastle United           19\n",
       "Arsenal                    19\n",
       "Southampton                19\n",
       "Name: home_team_name, dtype: int64"
      ]
     },
     "metadata": {},
     "execution_count": 9
    }
   ],
   "source": [
    "# 새롭게 추가할 data는 home, away team의 근 3년간 시즌에서의 최종 승점의 정보이다\n",
    "# 현재 18/19 시즌이기 때문에 15/16, 16/17, 17/18 시즌의 성적을 알아보자\n",
    "df['home_team_name'].value_counts()"
   ]
  },
  {
   "cell_type": "code",
   "execution_count": 10,
   "metadata": {},
   "outputs": [
    {
     "output_type": "execute_result",
     "data": {
      "text/plain": [
       "   Brighton & Hove Albion  Cardiff City  AFC Bournemouth  Southampton  \\\n",
       "0               54.983333     47.266667        55.933333    58.933333   \n",
       "\n",
       "   Huddersfield Town  Wolverhampton Wanderers    Chelsea    Watford  \\\n",
       "0              44.55                46.983333  91.966667  52.833333   \n",
       "\n",
       "   Tottenham Hotspur  West Ham United  Liverpool  Manchester United  \\\n",
       "0               99.1        61.166667  90.433333               92.4   \n",
       "\n",
       "     Burnley  Crystal Palace     Fulham  Leicester City  Manchester City  \\\n",
       "0  59.833333       53.766667  47.833333       69.566667            105.8   \n",
       "\n",
       "   Newcastle United  Everton    Arsenal  \n",
       "0              54.7     66.6  87.666667  "
      ],
      "text/html": "<div>\n<style scoped>\n    .dataframe tbody tr th:only-of-type {\n        vertical-align: middle;\n    }\n\n    .dataframe tbody tr th {\n        vertical-align: top;\n    }\n\n    .dataframe thead th {\n        text-align: right;\n    }\n</style>\n<table border=\"1\" class=\"dataframe\">\n  <thead>\n    <tr style=\"text-align: right;\">\n      <th></th>\n      <th>Brighton &amp; Hove Albion</th>\n      <th>Cardiff City</th>\n      <th>AFC Bournemouth</th>\n      <th>Southampton</th>\n      <th>Huddersfield Town</th>\n      <th>Wolverhampton Wanderers</th>\n      <th>Chelsea</th>\n      <th>Watford</th>\n      <th>Tottenham Hotspur</th>\n      <th>West Ham United</th>\n      <th>Liverpool</th>\n      <th>Manchester United</th>\n      <th>Burnley</th>\n      <th>Crystal Palace</th>\n      <th>Fulham</th>\n      <th>Leicester City</th>\n      <th>Manchester City</th>\n      <th>Newcastle United</th>\n      <th>Everton</th>\n      <th>Arsenal</th>\n    </tr>\n  </thead>\n  <tbody>\n    <tr>\n      <td>0</td>\n      <td>54.983333</td>\n      <td>47.266667</td>\n      <td>55.933333</td>\n      <td>58.933333</td>\n      <td>44.55</td>\n      <td>46.983333</td>\n      <td>91.966667</td>\n      <td>52.833333</td>\n      <td>99.1</td>\n      <td>61.166667</td>\n      <td>90.433333</td>\n      <td>92.4</td>\n      <td>59.833333</td>\n      <td>53.766667</td>\n      <td>47.833333</td>\n      <td>69.566667</td>\n      <td>105.8</td>\n      <td>54.7</td>\n      <td>66.6</td>\n      <td>87.666667</td>\n    </tr>\n  </tbody>\n</table>\n</div>"
     },
     "metadata": {},
     "execution_count": 10
    }
   ],
   "source": [
    "season_1516 = {'Brighton & Hove Albion': 89*0.5, 'Cardiff City': 68*0.5, 'AFC Bournemouth': 42, 'Southampton': 63, 'Huddersfield Town': 51*0.5, 'Wolverhampton Wanderers': 58*0.5, 'Chelsea': 50, 'Watford': 45, 'Tottenham Hotspur': 70, 'West Ham United': 62, 'Liverpool': 60, 'Manchester United': 66, 'Burnley': 93*0.5, 'Crystal Palace': 42, 'Fulham': 51*0.5, 'Leicester City': 81, 'Manchester City': 66, 'Newcastle United': 37, 'Everton': 47, 'Arsenal': 71}\n",
    "\n",
    "season_1617 = {'Brighton & Hove Albion': 93*0.5, 'Cardiff City': 62*0.5, 'AFC Bournemouth': 46, 'Southampton': 46, 'Huddersfield Town': 81*0.5, 'Wolverhampton Wanderers': 58*0.5, 'Chelsea': 93, 'Watford': 40, 'Tottenham Hotspur': 86, 'West Ham United': 45, 'Liverpool': 76, 'Manchester United': 69, 'Burnley': 40, 'Crystal Palace': 41, 'Fulham': 80*0.5, 'Leicester City': 44, 'Manchester City': 78, 'Newcastle United': 94*0.5, 'Everton': 61, 'Arsenal': 75}\n",
    "\n",
    "season_1718 = {'Brighton & Hove Albion': 40, 'Cardiff City': 90*0.5, 'AFC Bournemouth': 44, 'Southampton': 36, 'Huddersfield Town': 37, 'Wolverhampton Wanderers': 99*0.5, 'Chelsea': 70, 'Watford': 41, 'Tottenham Hotspur': 77, 'West Ham United': 42, 'Liverpool': 75, 'Manchester United': 81, 'Burnley': 54, 'Crystal Palace': 44, 'Fulham': 88*0.5, 'Leicester City': 47, 'Manchester City': 100, 'Newcastle United': 44, 'Everton': 49, 'Arsenal': 63}\n",
    "\n",
    "\n",
    "for team, point in season_1617.items():\n",
    "    point = point * 1.3\n",
    "    season_1617[team] = point\n",
    "\n",
    "for team, point in season_1718.items():\n",
    "    point = point * 1.5\n",
    "    season_1718[team] = point\n",
    "\n",
    "data1516 = pd.DataFrame.from_dict([season_1516])\n",
    "\n",
    "data1617 = pd.DataFrame.from_dict([season_1617])\n",
    "\n",
    "data1718 = pd.DataFrame.from_dict([season_1718])\n",
    "\n",
    "total_points = data1516 + data1617 + data1718\n",
    "total_points\n",
    "\n",
    "mean_of_points = total_points / 3\n",
    "mean_of_points"
   ]
  },
  {
   "cell_type": "code",
   "execution_count": 11,
   "metadata": {},
   "outputs": [
    {
     "output_type": "execute_result",
     "data": {
      "text/plain": [
       "    home_team_name away_team_name  home_ppg  away_ppg  team_a_xg  team_b_xg  \\\n",
       "0             92.4        69.5667      1.89      1.32       1.25       1.46   \n",
       "1             54.7           99.1      1.32      1.74       1.18       1.58   \n",
       "2          55.9333        47.2667      1.53      0.74       1.50       0.89   \n",
       "3          47.8333        53.7667      1.11      1.53       1.67       1.81   \n",
       "4            44.55        91.9667      0.47      1.58       0.90       1.17   \n",
       "..             ...            ...       ...       ...        ...        ...   \n",
       "375        90.4333        46.9833      2.79      1.21       1.40       0.92   \n",
       "376           92.4        47.2667      1.89      0.74       2.67       1.31   \n",
       "377        58.9333          44.55      1.21      0.37       1.15       1.04   \n",
       "378           99.1           66.6      2.00      1.05       1.23       1.80   \n",
       "379        52.8333        61.1667      1.42      1.11       1.81       2.01   \n",
       "\n",
       "     odds_ft_home_team_win  odds_ft_draw  odds_ft_away_team_win  \\\n",
       "0                     1.37          4.98                   9.81   \n",
       "1                     4.51          3.77                   1.84   \n",
       "2                     2.03          3.51                   3.96   \n",
       "3                     2.31          3.44                   3.26   \n",
       "4                     7.47          4.27                   1.51   \n",
       "..                     ...           ...                    ...   \n",
       "375                   1.32          5.80                   9.00   \n",
       "376                   1.28          6.20                  10.00   \n",
       "377                   1.41          4.90                   7.50   \n",
       "378                   2.10          3.50                   3.55   \n",
       "379                   2.20          3.70                   3.10   \n",
       "\n",
       "     home_team_result  \n",
       "0                   2  \n",
       "1                   0  \n",
       "2                   2  \n",
       "3                   0  \n",
       "4                   0  \n",
       "..                ...  \n",
       "375                 2  \n",
       "376                 0  \n",
       "377                 1  \n",
       "378                 1  \n",
       "379                 0  \n",
       "\n",
       "[380 rows x 10 columns]"
      ],
      "text/html": "<div>\n<style scoped>\n    .dataframe tbody tr th:only-of-type {\n        vertical-align: middle;\n    }\n\n    .dataframe tbody tr th {\n        vertical-align: top;\n    }\n\n    .dataframe thead th {\n        text-align: right;\n    }\n</style>\n<table border=\"1\" class=\"dataframe\">\n  <thead>\n    <tr style=\"text-align: right;\">\n      <th></th>\n      <th>home_team_name</th>\n      <th>away_team_name</th>\n      <th>home_ppg</th>\n      <th>away_ppg</th>\n      <th>team_a_xg</th>\n      <th>team_b_xg</th>\n      <th>odds_ft_home_team_win</th>\n      <th>odds_ft_draw</th>\n      <th>odds_ft_away_team_win</th>\n      <th>home_team_result</th>\n    </tr>\n  </thead>\n  <tbody>\n    <tr>\n      <td>0</td>\n      <td>92.4</td>\n      <td>69.5667</td>\n      <td>1.89</td>\n      <td>1.32</td>\n      <td>1.25</td>\n      <td>1.46</td>\n      <td>1.37</td>\n      <td>4.98</td>\n      <td>9.81</td>\n      <td>2</td>\n    </tr>\n    <tr>\n      <td>1</td>\n      <td>54.7</td>\n      <td>99.1</td>\n      <td>1.32</td>\n      <td>1.74</td>\n      <td>1.18</td>\n      <td>1.58</td>\n      <td>4.51</td>\n      <td>3.77</td>\n      <td>1.84</td>\n      <td>0</td>\n    </tr>\n    <tr>\n      <td>2</td>\n      <td>55.9333</td>\n      <td>47.2667</td>\n      <td>1.53</td>\n      <td>0.74</td>\n      <td>1.50</td>\n      <td>0.89</td>\n      <td>2.03</td>\n      <td>3.51</td>\n      <td>3.96</td>\n      <td>2</td>\n    </tr>\n    <tr>\n      <td>3</td>\n      <td>47.8333</td>\n      <td>53.7667</td>\n      <td>1.11</td>\n      <td>1.53</td>\n      <td>1.67</td>\n      <td>1.81</td>\n      <td>2.31</td>\n      <td>3.44</td>\n      <td>3.26</td>\n      <td>0</td>\n    </tr>\n    <tr>\n      <td>4</td>\n      <td>44.55</td>\n      <td>91.9667</td>\n      <td>0.47</td>\n      <td>1.58</td>\n      <td>0.90</td>\n      <td>1.17</td>\n      <td>7.47</td>\n      <td>4.27</td>\n      <td>1.51</td>\n      <td>0</td>\n    </tr>\n    <tr>\n      <td>...</td>\n      <td>...</td>\n      <td>...</td>\n      <td>...</td>\n      <td>...</td>\n      <td>...</td>\n      <td>...</td>\n      <td>...</td>\n      <td>...</td>\n      <td>...</td>\n      <td>...</td>\n    </tr>\n    <tr>\n      <td>375</td>\n      <td>90.4333</td>\n      <td>46.9833</td>\n      <td>2.79</td>\n      <td>1.21</td>\n      <td>1.40</td>\n      <td>0.92</td>\n      <td>1.32</td>\n      <td>5.80</td>\n      <td>9.00</td>\n      <td>2</td>\n    </tr>\n    <tr>\n      <td>376</td>\n      <td>92.4</td>\n      <td>47.2667</td>\n      <td>1.89</td>\n      <td>0.74</td>\n      <td>2.67</td>\n      <td>1.31</td>\n      <td>1.28</td>\n      <td>6.20</td>\n      <td>10.00</td>\n      <td>0</td>\n    </tr>\n    <tr>\n      <td>377</td>\n      <td>58.9333</td>\n      <td>44.55</td>\n      <td>1.21</td>\n      <td>0.37</td>\n      <td>1.15</td>\n      <td>1.04</td>\n      <td>1.41</td>\n      <td>4.90</td>\n      <td>7.50</td>\n      <td>1</td>\n    </tr>\n    <tr>\n      <td>378</td>\n      <td>99.1</td>\n      <td>66.6</td>\n      <td>2.00</td>\n      <td>1.05</td>\n      <td>1.23</td>\n      <td>1.80</td>\n      <td>2.10</td>\n      <td>3.50</td>\n      <td>3.55</td>\n      <td>1</td>\n    </tr>\n    <tr>\n      <td>379</td>\n      <td>52.8333</td>\n      <td>61.1667</td>\n      <td>1.42</td>\n      <td>1.11</td>\n      <td>1.81</td>\n      <td>2.01</td>\n      <td>2.20</td>\n      <td>3.70</td>\n      <td>3.10</td>\n      <td>0</td>\n    </tr>\n  </tbody>\n</table>\n<p>380 rows × 10 columns</p>\n</div>"
     },
     "metadata": {},
     "execution_count": 11
    }
   ],
   "source": [
    "# 원래의 dataframe에 각 팀의 승점에 해당되는 점수를 넣는다.\n",
    "\n",
    "for team in mean_of_points.columns:\n",
    "    for index, teams in enumerate(df['home_team_name'].values):\n",
    "        if str(teams) == str(team):     \n",
    "            df['home_team_name'].values[index] = mean_of_points[team].values[0] # values들은 list 형태에 저장돼 있기에 index 0값을 불러 가져옴\n",
    "\n",
    "for team in mean_of_points.columns:\n",
    "    for index, teams in enumerate(df['away_team_name'].values):\n",
    "        if str(teams) == str(team):     \n",
    "            df['away_team_name'].values[index] = mean_of_points[team].values[0] # values들은 list 형태에 저장돼 있기에 index 0값을 불러 가져옴\n",
    "df"
   ]
  },
  {
   "cell_type": "code",
   "execution_count": 13,
   "metadata": {},
   "outputs": [
    {
     "output_type": "execute_result",
     "data": {
      "text/plain": [
       "    home_team_point away_team_point  home_ppg  away_ppg  team_a_xg  team_b_xg  \\\n",
       "0              92.4         69.5667      1.89      1.32       1.25       1.46   \n",
       "1              54.7            99.1      1.32      1.74       1.18       1.58   \n",
       "2           55.9333         47.2667      1.53      0.74       1.50       0.89   \n",
       "3           47.8333         53.7667      1.11      1.53       1.67       1.81   \n",
       "4             44.55         91.9667      0.47      1.58       0.90       1.17   \n",
       "..              ...             ...       ...       ...        ...        ...   \n",
       "375         90.4333         46.9833      2.79      1.21       1.40       0.92   \n",
       "376            92.4         47.2667      1.89      0.74       2.67       1.31   \n",
       "377         58.9333           44.55      1.21      0.37       1.15       1.04   \n",
       "378            99.1            66.6      2.00      1.05       1.23       1.80   \n",
       "379         52.8333         61.1667      1.42      1.11       1.81       2.01   \n",
       "\n",
       "     odds_ft_home_team_win  odds_ft_draw  odds_ft_away_team_win  \\\n",
       "0                     1.37          4.98                   9.81   \n",
       "1                     4.51          3.77                   1.84   \n",
       "2                     2.03          3.51                   3.96   \n",
       "3                     2.31          3.44                   3.26   \n",
       "4                     7.47          4.27                   1.51   \n",
       "..                     ...           ...                    ...   \n",
       "375                   1.32          5.80                   9.00   \n",
       "376                   1.28          6.20                  10.00   \n",
       "377                   1.41          4.90                   7.50   \n",
       "378                   2.10          3.50                   3.55   \n",
       "379                   2.20          3.70                   3.10   \n",
       "\n",
       "     home_team_result  \n",
       "0                   2  \n",
       "1                   0  \n",
       "2                   2  \n",
       "3                   0  \n",
       "4                   0  \n",
       "..                ...  \n",
       "375                 2  \n",
       "376                 0  \n",
       "377                 1  \n",
       "378                 1  \n",
       "379                 0  \n",
       "\n",
       "[380 rows x 10 columns]"
      ],
      "text/html": "<div>\n<style scoped>\n    .dataframe tbody tr th:only-of-type {\n        vertical-align: middle;\n    }\n\n    .dataframe tbody tr th {\n        vertical-align: top;\n    }\n\n    .dataframe thead th {\n        text-align: right;\n    }\n</style>\n<table border=\"1\" class=\"dataframe\">\n  <thead>\n    <tr style=\"text-align: right;\">\n      <th></th>\n      <th>home_team_point</th>\n      <th>away_team_point</th>\n      <th>home_ppg</th>\n      <th>away_ppg</th>\n      <th>team_a_xg</th>\n      <th>team_b_xg</th>\n      <th>odds_ft_home_team_win</th>\n      <th>odds_ft_draw</th>\n      <th>odds_ft_away_team_win</th>\n      <th>home_team_result</th>\n    </tr>\n  </thead>\n  <tbody>\n    <tr>\n      <td>0</td>\n      <td>92.4</td>\n      <td>69.5667</td>\n      <td>1.89</td>\n      <td>1.32</td>\n      <td>1.25</td>\n      <td>1.46</td>\n      <td>1.37</td>\n      <td>4.98</td>\n      <td>9.81</td>\n      <td>2</td>\n    </tr>\n    <tr>\n      <td>1</td>\n      <td>54.7</td>\n      <td>99.1</td>\n      <td>1.32</td>\n      <td>1.74</td>\n      <td>1.18</td>\n      <td>1.58</td>\n      <td>4.51</td>\n      <td>3.77</td>\n      <td>1.84</td>\n      <td>0</td>\n    </tr>\n    <tr>\n      <td>2</td>\n      <td>55.9333</td>\n      <td>47.2667</td>\n      <td>1.53</td>\n      <td>0.74</td>\n      <td>1.50</td>\n      <td>0.89</td>\n      <td>2.03</td>\n      <td>3.51</td>\n      <td>3.96</td>\n      <td>2</td>\n    </tr>\n    <tr>\n      <td>3</td>\n      <td>47.8333</td>\n      <td>53.7667</td>\n      <td>1.11</td>\n      <td>1.53</td>\n      <td>1.67</td>\n      <td>1.81</td>\n      <td>2.31</td>\n      <td>3.44</td>\n      <td>3.26</td>\n      <td>0</td>\n    </tr>\n    <tr>\n      <td>4</td>\n      <td>44.55</td>\n      <td>91.9667</td>\n      <td>0.47</td>\n      <td>1.58</td>\n      <td>0.90</td>\n      <td>1.17</td>\n      <td>7.47</td>\n      <td>4.27</td>\n      <td>1.51</td>\n      <td>0</td>\n    </tr>\n    <tr>\n      <td>...</td>\n      <td>...</td>\n      <td>...</td>\n      <td>...</td>\n      <td>...</td>\n      <td>...</td>\n      <td>...</td>\n      <td>...</td>\n      <td>...</td>\n      <td>...</td>\n      <td>...</td>\n    </tr>\n    <tr>\n      <td>375</td>\n      <td>90.4333</td>\n      <td>46.9833</td>\n      <td>2.79</td>\n      <td>1.21</td>\n      <td>1.40</td>\n      <td>0.92</td>\n      <td>1.32</td>\n      <td>5.80</td>\n      <td>9.00</td>\n      <td>2</td>\n    </tr>\n    <tr>\n      <td>376</td>\n      <td>92.4</td>\n      <td>47.2667</td>\n      <td>1.89</td>\n      <td>0.74</td>\n      <td>2.67</td>\n      <td>1.31</td>\n      <td>1.28</td>\n      <td>6.20</td>\n      <td>10.00</td>\n      <td>0</td>\n    </tr>\n    <tr>\n      <td>377</td>\n      <td>58.9333</td>\n      <td>44.55</td>\n      <td>1.21</td>\n      <td>0.37</td>\n      <td>1.15</td>\n      <td>1.04</td>\n      <td>1.41</td>\n      <td>4.90</td>\n      <td>7.50</td>\n      <td>1</td>\n    </tr>\n    <tr>\n      <td>378</td>\n      <td>99.1</td>\n      <td>66.6</td>\n      <td>2.00</td>\n      <td>1.05</td>\n      <td>1.23</td>\n      <td>1.80</td>\n      <td>2.10</td>\n      <td>3.50</td>\n      <td>3.55</td>\n      <td>1</td>\n    </tr>\n    <tr>\n      <td>379</td>\n      <td>52.8333</td>\n      <td>61.1667</td>\n      <td>1.42</td>\n      <td>1.11</td>\n      <td>1.81</td>\n      <td>2.01</td>\n      <td>2.20</td>\n      <td>3.70</td>\n      <td>3.10</td>\n      <td>0</td>\n    </tr>\n  </tbody>\n</table>\n<p>380 rows × 10 columns</p>\n</div>"
     },
     "metadata": {},
     "execution_count": 13
    }
   ],
   "source": [
    "# team_name 에서 team_point 로 이름 변경\n",
    "\n",
    "df = df.rename({'home_team_name':'home_team_point', 'away_team_name':'away_team_point'}, axis='columns')\n",
    "df"
   ]
  },
  {
   "cell_type": "code",
   "execution_count": 14,
   "metadata": {},
   "outputs": [
    {
     "output_type": "execute_result",
     "data": {
      "text/plain": [
       "     home_team_point  away_team_point  home_ppg  away_ppg  team_a_xg  \\\n",
       "0          92.400000        69.566667      1.89      1.32       1.25   \n",
       "1          54.700000        99.100000      1.32      1.74       1.18   \n",
       "2          55.933333        47.266667      1.53      0.74       1.50   \n",
       "3          47.833333        53.766667      1.11      1.53       1.67   \n",
       "4          44.550000        91.966667      0.47      1.58       0.90   \n",
       "..               ...              ...       ...       ...        ...   \n",
       "375        90.433333        46.983333      2.79      1.21       1.40   \n",
       "376        92.400000        47.266667      1.89      0.74       2.67   \n",
       "377        58.933333        44.550000      1.21      0.37       1.15   \n",
       "378        99.100000        66.600000      2.00      1.05       1.23   \n",
       "379        52.833333        61.166667      1.42      1.11       1.81   \n",
       "\n",
       "     team_b_xg  odds_ft_home_team_win  odds_ft_draw  odds_ft_away_team_win  \\\n",
       "0         1.46                   1.37          4.98                   9.81   \n",
       "1         1.58                   4.51          3.77                   1.84   \n",
       "2         0.89                   2.03          3.51                   3.96   \n",
       "3         1.81                   2.31          3.44                   3.26   \n",
       "4         1.17                   7.47          4.27                   1.51   \n",
       "..         ...                    ...           ...                    ...   \n",
       "375       0.92                   1.32          5.80                   9.00   \n",
       "376       1.31                   1.28          6.20                  10.00   \n",
       "377       1.04                   1.41          4.90                   7.50   \n",
       "378       1.80                   2.10          3.50                   3.55   \n",
       "379       2.01                   2.20          3.70                   3.10   \n",
       "\n",
       "     home_team_result  \n",
       "0                   2  \n",
       "1                   0  \n",
       "2                   2  \n",
       "3                   0  \n",
       "4                   0  \n",
       "..                ...  \n",
       "375                 2  \n",
       "376                 0  \n",
       "377                 1  \n",
       "378                 1  \n",
       "379                 0  \n",
       "\n",
       "[380 rows x 10 columns]"
      ],
      "text/html": "<div>\n<style scoped>\n    .dataframe tbody tr th:only-of-type {\n        vertical-align: middle;\n    }\n\n    .dataframe tbody tr th {\n        vertical-align: top;\n    }\n\n    .dataframe thead th {\n        text-align: right;\n    }\n</style>\n<table border=\"1\" class=\"dataframe\">\n  <thead>\n    <tr style=\"text-align: right;\">\n      <th></th>\n      <th>home_team_point</th>\n      <th>away_team_point</th>\n      <th>home_ppg</th>\n      <th>away_ppg</th>\n      <th>team_a_xg</th>\n      <th>team_b_xg</th>\n      <th>odds_ft_home_team_win</th>\n      <th>odds_ft_draw</th>\n      <th>odds_ft_away_team_win</th>\n      <th>home_team_result</th>\n    </tr>\n  </thead>\n  <tbody>\n    <tr>\n      <td>0</td>\n      <td>92.400000</td>\n      <td>69.566667</td>\n      <td>1.89</td>\n      <td>1.32</td>\n      <td>1.25</td>\n      <td>1.46</td>\n      <td>1.37</td>\n      <td>4.98</td>\n      <td>9.81</td>\n      <td>2</td>\n    </tr>\n    <tr>\n      <td>1</td>\n      <td>54.700000</td>\n      <td>99.100000</td>\n      <td>1.32</td>\n      <td>1.74</td>\n      <td>1.18</td>\n      <td>1.58</td>\n      <td>4.51</td>\n      <td>3.77</td>\n      <td>1.84</td>\n      <td>0</td>\n    </tr>\n    <tr>\n      <td>2</td>\n      <td>55.933333</td>\n      <td>47.266667</td>\n      <td>1.53</td>\n      <td>0.74</td>\n      <td>1.50</td>\n      <td>0.89</td>\n      <td>2.03</td>\n      <td>3.51</td>\n      <td>3.96</td>\n      <td>2</td>\n    </tr>\n    <tr>\n      <td>3</td>\n      <td>47.833333</td>\n      <td>53.766667</td>\n      <td>1.11</td>\n      <td>1.53</td>\n      <td>1.67</td>\n      <td>1.81</td>\n      <td>2.31</td>\n      <td>3.44</td>\n      <td>3.26</td>\n      <td>0</td>\n    </tr>\n    <tr>\n      <td>4</td>\n      <td>44.550000</td>\n      <td>91.966667</td>\n      <td>0.47</td>\n      <td>1.58</td>\n      <td>0.90</td>\n      <td>1.17</td>\n      <td>7.47</td>\n      <td>4.27</td>\n      <td>1.51</td>\n      <td>0</td>\n    </tr>\n    <tr>\n      <td>...</td>\n      <td>...</td>\n      <td>...</td>\n      <td>...</td>\n      <td>...</td>\n      <td>...</td>\n      <td>...</td>\n      <td>...</td>\n      <td>...</td>\n      <td>...</td>\n      <td>...</td>\n    </tr>\n    <tr>\n      <td>375</td>\n      <td>90.433333</td>\n      <td>46.983333</td>\n      <td>2.79</td>\n      <td>1.21</td>\n      <td>1.40</td>\n      <td>0.92</td>\n      <td>1.32</td>\n      <td>5.80</td>\n      <td>9.00</td>\n      <td>2</td>\n    </tr>\n    <tr>\n      <td>376</td>\n      <td>92.400000</td>\n      <td>47.266667</td>\n      <td>1.89</td>\n      <td>0.74</td>\n      <td>2.67</td>\n      <td>1.31</td>\n      <td>1.28</td>\n      <td>6.20</td>\n      <td>10.00</td>\n      <td>0</td>\n    </tr>\n    <tr>\n      <td>377</td>\n      <td>58.933333</td>\n      <td>44.550000</td>\n      <td>1.21</td>\n      <td>0.37</td>\n      <td>1.15</td>\n      <td>1.04</td>\n      <td>1.41</td>\n      <td>4.90</td>\n      <td>7.50</td>\n      <td>1</td>\n    </tr>\n    <tr>\n      <td>378</td>\n      <td>99.100000</td>\n      <td>66.600000</td>\n      <td>2.00</td>\n      <td>1.05</td>\n      <td>1.23</td>\n      <td>1.80</td>\n      <td>2.10</td>\n      <td>3.50</td>\n      <td>3.55</td>\n      <td>1</td>\n    </tr>\n    <tr>\n      <td>379</td>\n      <td>52.833333</td>\n      <td>61.166667</td>\n      <td>1.42</td>\n      <td>1.11</td>\n      <td>1.81</td>\n      <td>2.01</td>\n      <td>2.20</td>\n      <td>3.70</td>\n      <td>3.10</td>\n      <td>0</td>\n    </tr>\n  </tbody>\n</table>\n<p>380 rows × 10 columns</p>\n</div>"
     },
     "metadata": {},
     "execution_count": 14
    }
   ],
   "source": [
    " # 이를 해주는 이유는 dataframe에 새로 추가해준 승점 정보를 숫자형으로 확실하게 바꿔주기 위함이다.\n",
    "df['home_team_point'] = pd.to_numeric(df['home_team_point'])\n",
    "df['away_team_point'] = pd.to_numeric(df['away_team_point'])\n",
    "df"
   ]
  },
  {
   "cell_type": "code",
   "execution_count": 15,
   "metadata": {},
   "outputs": [
    {
     "output_type": "execute_result",
     "data": {
      "text/plain": [
       "     home_team_point  away_team_point  home_ppg  away_ppg  team_a_xg  \\\n",
       "0           0.781224         0.408435  0.599156  0.514563   0.365385   \n",
       "1           0.165714         0.890612  0.358650  0.718447   0.342949   \n",
       "2           0.185850         0.044354  0.447257  0.233010   0.445513   \n",
       "3           0.053605         0.150476  0.270042  0.616505   0.500000   \n",
       "4           0.000000         0.774150  0.000000  0.640777   0.253205   \n",
       "..               ...              ...       ...       ...        ...   \n",
       "375         0.749116         0.039728  0.978903  0.461165   0.413462   \n",
       "376         0.781224         0.044354  0.599156  0.233010   0.820513   \n",
       "377         0.234830         0.000000  0.312236  0.053398   0.333333   \n",
       "378         0.890612         0.360000  0.645570  0.383495   0.358974   \n",
       "379         0.135238         0.271293  0.400844  0.412621   0.544872   \n",
       "\n",
       "     team_b_xg  odds_ft_home_team_win  odds_ft_draw  odds_ft_away_team_win  \n",
       "0     0.583333               0.014333      0.161868               0.208744  \n",
       "1     0.638889               0.164357      0.067704               0.017295  \n",
       "2     0.319444               0.045867      0.047471               0.068220  \n",
       "3     0.745370               0.059245      0.042023               0.051405  \n",
       "4     0.449074               0.305781      0.106615               0.009368  \n",
       "..         ...                    ...           ...                    ...  \n",
       "375   0.333333               0.011945      0.225681               0.189287  \n",
       "376   0.513889               0.010033      0.256809               0.213308  \n",
       "377   0.388889               0.016245      0.155642               0.153255  \n",
       "378   0.740741               0.049212      0.046693               0.058371  \n",
       "379   0.837963               0.053989      0.062257               0.047562  \n",
       "\n",
       "[380 rows x 9 columns]"
      ],
      "text/html": "<div>\n<style scoped>\n    .dataframe tbody tr th:only-of-type {\n        vertical-align: middle;\n    }\n\n    .dataframe tbody tr th {\n        vertical-align: top;\n    }\n\n    .dataframe thead th {\n        text-align: right;\n    }\n</style>\n<table border=\"1\" class=\"dataframe\">\n  <thead>\n    <tr style=\"text-align: right;\">\n      <th></th>\n      <th>home_team_point</th>\n      <th>away_team_point</th>\n      <th>home_ppg</th>\n      <th>away_ppg</th>\n      <th>team_a_xg</th>\n      <th>team_b_xg</th>\n      <th>odds_ft_home_team_win</th>\n      <th>odds_ft_draw</th>\n      <th>odds_ft_away_team_win</th>\n    </tr>\n  </thead>\n  <tbody>\n    <tr>\n      <td>0</td>\n      <td>0.781224</td>\n      <td>0.408435</td>\n      <td>0.599156</td>\n      <td>0.514563</td>\n      <td>0.365385</td>\n      <td>0.583333</td>\n      <td>0.014333</td>\n      <td>0.161868</td>\n      <td>0.208744</td>\n    </tr>\n    <tr>\n      <td>1</td>\n      <td>0.165714</td>\n      <td>0.890612</td>\n      <td>0.358650</td>\n      <td>0.718447</td>\n      <td>0.342949</td>\n      <td>0.638889</td>\n      <td>0.164357</td>\n      <td>0.067704</td>\n      <td>0.017295</td>\n    </tr>\n    <tr>\n      <td>2</td>\n      <td>0.185850</td>\n      <td>0.044354</td>\n      <td>0.447257</td>\n      <td>0.233010</td>\n      <td>0.445513</td>\n      <td>0.319444</td>\n      <td>0.045867</td>\n      <td>0.047471</td>\n      <td>0.068220</td>\n    </tr>\n    <tr>\n      <td>3</td>\n      <td>0.053605</td>\n      <td>0.150476</td>\n      <td>0.270042</td>\n      <td>0.616505</td>\n      <td>0.500000</td>\n      <td>0.745370</td>\n      <td>0.059245</td>\n      <td>0.042023</td>\n      <td>0.051405</td>\n    </tr>\n    <tr>\n      <td>4</td>\n      <td>0.000000</td>\n      <td>0.774150</td>\n      <td>0.000000</td>\n      <td>0.640777</td>\n      <td>0.253205</td>\n      <td>0.449074</td>\n      <td>0.305781</td>\n      <td>0.106615</td>\n      <td>0.009368</td>\n    </tr>\n    <tr>\n      <td>...</td>\n      <td>...</td>\n      <td>...</td>\n      <td>...</td>\n      <td>...</td>\n      <td>...</td>\n      <td>...</td>\n      <td>...</td>\n      <td>...</td>\n      <td>...</td>\n    </tr>\n    <tr>\n      <td>375</td>\n      <td>0.749116</td>\n      <td>0.039728</td>\n      <td>0.978903</td>\n      <td>0.461165</td>\n      <td>0.413462</td>\n      <td>0.333333</td>\n      <td>0.011945</td>\n      <td>0.225681</td>\n      <td>0.189287</td>\n    </tr>\n    <tr>\n      <td>376</td>\n      <td>0.781224</td>\n      <td>0.044354</td>\n      <td>0.599156</td>\n      <td>0.233010</td>\n      <td>0.820513</td>\n      <td>0.513889</td>\n      <td>0.010033</td>\n      <td>0.256809</td>\n      <td>0.213308</td>\n    </tr>\n    <tr>\n      <td>377</td>\n      <td>0.234830</td>\n      <td>0.000000</td>\n      <td>0.312236</td>\n      <td>0.053398</td>\n      <td>0.333333</td>\n      <td>0.388889</td>\n      <td>0.016245</td>\n      <td>0.155642</td>\n      <td>0.153255</td>\n    </tr>\n    <tr>\n      <td>378</td>\n      <td>0.890612</td>\n      <td>0.360000</td>\n      <td>0.645570</td>\n      <td>0.383495</td>\n      <td>0.358974</td>\n      <td>0.740741</td>\n      <td>0.049212</td>\n      <td>0.046693</td>\n      <td>0.058371</td>\n    </tr>\n    <tr>\n      <td>379</td>\n      <td>0.135238</td>\n      <td>0.271293</td>\n      <td>0.400844</td>\n      <td>0.412621</td>\n      <td>0.544872</td>\n      <td>0.837963</td>\n      <td>0.053989</td>\n      <td>0.062257</td>\n      <td>0.047562</td>\n    </tr>\n  </tbody>\n</table>\n<p>380 rows × 9 columns</p>\n</div>"
     },
     "metadata": {},
     "execution_count": 15
    }
   ],
   "source": [
    "from sklearn.preprocessing import MinMaxScaler\n",
    "\n",
    "target = df['home_team_result']\n",
    "features = df.drop('home_team_result', axis=1, inplace=False)\n",
    "\n",
    "scaler = MinMaxScaler()\n",
    "scaler.fit(features)\n",
    "df_scaled = scaler.transform(features)\n",
    "soccer_df_scaled = pd.DataFrame(data=df_scaled, columns=features.columns)\n",
    "soccer_df_scaled"
   ]
  },
  {
   "source": [
    "### Machine Learning model for classification"
   ],
   "cell_type": "markdown",
   "metadata": {}
  },
  {
   "cell_type": "code",
   "execution_count": 16,
   "metadata": {},
   "outputs": [],
   "source": [
    "from sklearn.model_selection import train_test_split\n",
    "from sklearn.tree import DecisionTreeClassifier\n",
    "from sklearn.linear_model import LogisticRegression\n",
    "from sklearn.ensemble import RandomForestClassifier\n",
    "from sklearn.ensemble import AdaBoostClassifier\n",
    "from sklearn.ensemble import VotingClassifier\n",
    "from xgboost import XGBClassifier\n",
    "from lightgbm import LGBMClassifier\n",
    "from sklearn.neighbors import KNeighborsClassifier\n",
    "from sklearn.metrics import accuracy_score"
   ]
  },
  {
   "cell_type": "code",
   "execution_count": 74,
   "metadata": {},
   "outputs": [
    {
     "output_type": "stream",
     "name": "stdout",
     "text": [
      "0.5526315789473685\n0.5657894736842105\n0.7105263157894737\n0.5657894736842105\n0.5394736842105263\n"
     ]
    }
   ],
   "source": [
    "X_train, X_test, y_train, y_test = train_test_split(soccer_df_scaled, target, test_size=0.2)\n",
    "\n",
    "dt = DecisionTreeClassifier()\n",
    "dt.fit(X_train, y_train)\n",
    "dt_pred = dt.predict(X_test)\n",
    "\n",
    "rf = RandomForestClassifier()\n",
    "rf.fit(X_train, y_train)\n",
    "rf_pred = rf.predict(X_test)\n",
    "\n",
    "lr = LogisticRegression()\n",
    "lr.fit(X_train, y_train)\n",
    "lr_pred = lr.predict(X_test)\n",
    "\n",
    "ab = AdaBoostClassifier()\n",
    "ab.fit(X_train, y_train)\n",
    "ab_pred = ab.predict(X_test)\n",
    "\n",
    "knn = KNeighborsClassifier()\n",
    "knn.fit(X_train, y_train)\n",
    "knn_pred = knn.predict(X_test)\n",
    "\n",
    "classifiers = [dt_pred, rf_pred, lr_pred, ab_pred, knn_pred]\n",
    "\n",
    "for i in classifiers:\n",
    "    print(accuracy_score(y_test, i))"
   ]
  },
  {
   "cell_type": "code",
   "execution_count": null,
   "metadata": {},
   "outputs": [],
   "source": []
  }
 ]
}