{
 "metadata": {
  "language_info": {
   "codemirror_mode": {
    "name": "ipython",
    "version": 3
   },
   "file_extension": ".py",
   "mimetype": "text/x-python",
   "name": "python",
   "nbconvert_exporter": "python",
   "pygments_lexer": "ipython3",
   "version": "3.7.4-final"
  },
  "orig_nbformat": 2,
  "kernelspec": {
   "name": "python3",
   "display_name": "Python 3"
  }
 },
 "nbformat": 4,
 "nbformat_minor": 2,
 "cells": [
  {
   "source": [
    "# Englsih Premier League 2018/2019 seasons W/D/L prediction"
   ],
   "cell_type": "markdown",
   "metadata": {}
  },
  {
   "cell_type": "code",
   "execution_count": 27,
   "metadata": {},
   "outputs": [],
   "source": [
    "import pandas as pd \n",
    "import numpy as np \n",
    "import matplotlib.pyplot as plt \n",
    "\n",
    "%matplotlib inline"
   ]
  },
  {
   "cell_type": "code",
   "execution_count": 102,
   "metadata": {},
   "outputs": [
    {
     "output_type": "execute_result",
     "data": {
      "text/plain": [
       "    timestamp               date_GMT    status  attendance     home_team_name  \\\n",
       "0  1533927600   Aug 10 2018 - 7:00pm  complete       74439  Manchester United   \n",
       "1  1533987000  Aug 11 2018 - 11:30am  complete       51749   Newcastle United   \n",
       "2  1533996000   Aug 11 2018 - 2:00pm  complete       10353    AFC Bournemouth   \n",
       "3  1533996000   Aug 11 2018 - 2:00pm  complete       24821             Fulham   \n",
       "4  1533996000   Aug 11 2018 - 2:00pm  complete       24121  Huddersfield Town   \n",
       "\n",
       "      away_team_name          referee  Game Week  Pre-Match PPG (Home)  \\\n",
       "0     Leicester City   Andre Marriner          1                   0.0   \n",
       "1  Tottenham Hotspur  Martin Atkinson          1                   0.0   \n",
       "2       Cardiff City     Kevin Friend          1                   0.0   \n",
       "3     Crystal Palace        Mike Dean          1                   0.0   \n",
       "4            Chelsea   Chris Kavanagh          1                   0.0   \n",
       "\n",
       "   Pre-Match PPG (Away)  ...  odds_ft_home_team_win  odds_ft_draw  \\\n",
       "0                   0.0  ...                   1.37          4.98   \n",
       "1                   0.0  ...                   4.51          3.77   \n",
       "2                   0.0  ...                   2.03          3.51   \n",
       "3                   0.0  ...                   2.31          3.44   \n",
       "4                   0.0  ...                   7.47          4.27   \n",
       "\n",
       "   odds_ft_away_team_win  odds_ft_over15  odds_ft_over25  odds_ft_over35  \\\n",
       "0                   9.81            1.33            2.00            3.60   \n",
       "1                   1.84            1.31            1.95            3.50   \n",
       "2                   3.96            1.31            1.95            3.45   \n",
       "3                   3.26            1.28            1.87            3.20   \n",
       "4                   1.51            1.29            1.91            3.30   \n",
       "\n",
       "   odds_ft_over45  odds_btts_yes odds_btts_no  \\\n",
       "0            7.50           2.05         1.69   \n",
       "1            5.75           1.83         1.87   \n",
       "2            6.70           1.83         1.83   \n",
       "3            7.00           1.71         2.00   \n",
       "4            6.95           2.00         1.71   \n",
       "\n",
       "                                        stadium_name  \n",
       "0                          Old Trafford (Manchester)  \n",
       "1              St. James' Park (Newcastle upon Tyne)  \n",
       "2             Vitality Stadium (Bournemouth- Dorset)  \n",
       "3                            Craven Cottage (London)  \n",
       "4  John Smith's Stadium (Huddersfield- West Yorks...  \n",
       "\n",
       "[5 rows x 64 columns]"
      ],
      "text/html": "<div>\n<style scoped>\n    .dataframe tbody tr th:only-of-type {\n        vertical-align: middle;\n    }\n\n    .dataframe tbody tr th {\n        vertical-align: top;\n    }\n\n    .dataframe thead th {\n        text-align: right;\n    }\n</style>\n<table border=\"1\" class=\"dataframe\">\n  <thead>\n    <tr style=\"text-align: right;\">\n      <th></th>\n      <th>timestamp</th>\n      <th>date_GMT</th>\n      <th>status</th>\n      <th>attendance</th>\n      <th>home_team_name</th>\n      <th>away_team_name</th>\n      <th>referee</th>\n      <th>Game Week</th>\n      <th>Pre-Match PPG (Home)</th>\n      <th>Pre-Match PPG (Away)</th>\n      <th>...</th>\n      <th>odds_ft_home_team_win</th>\n      <th>odds_ft_draw</th>\n      <th>odds_ft_away_team_win</th>\n      <th>odds_ft_over15</th>\n      <th>odds_ft_over25</th>\n      <th>odds_ft_over35</th>\n      <th>odds_ft_over45</th>\n      <th>odds_btts_yes</th>\n      <th>odds_btts_no</th>\n      <th>stadium_name</th>\n    </tr>\n  </thead>\n  <tbody>\n    <tr>\n      <td>0</td>\n      <td>1533927600</td>\n      <td>Aug 10 2018 - 7:00pm</td>\n      <td>complete</td>\n      <td>74439</td>\n      <td>Manchester United</td>\n      <td>Leicester City</td>\n      <td>Andre Marriner</td>\n      <td>1</td>\n      <td>0.0</td>\n      <td>0.0</td>\n      <td>...</td>\n      <td>1.37</td>\n      <td>4.98</td>\n      <td>9.81</td>\n      <td>1.33</td>\n      <td>2.00</td>\n      <td>3.60</td>\n      <td>7.50</td>\n      <td>2.05</td>\n      <td>1.69</td>\n      <td>Old Trafford (Manchester)</td>\n    </tr>\n    <tr>\n      <td>1</td>\n      <td>1533987000</td>\n      <td>Aug 11 2018 - 11:30am</td>\n      <td>complete</td>\n      <td>51749</td>\n      <td>Newcastle United</td>\n      <td>Tottenham Hotspur</td>\n      <td>Martin Atkinson</td>\n      <td>1</td>\n      <td>0.0</td>\n      <td>0.0</td>\n      <td>...</td>\n      <td>4.51</td>\n      <td>3.77</td>\n      <td>1.84</td>\n      <td>1.31</td>\n      <td>1.95</td>\n      <td>3.50</td>\n      <td>5.75</td>\n      <td>1.83</td>\n      <td>1.87</td>\n      <td>St. James' Park (Newcastle upon Tyne)</td>\n    </tr>\n    <tr>\n      <td>2</td>\n      <td>1533996000</td>\n      <td>Aug 11 2018 - 2:00pm</td>\n      <td>complete</td>\n      <td>10353</td>\n      <td>AFC Bournemouth</td>\n      <td>Cardiff City</td>\n      <td>Kevin Friend</td>\n      <td>1</td>\n      <td>0.0</td>\n      <td>0.0</td>\n      <td>...</td>\n      <td>2.03</td>\n      <td>3.51</td>\n      <td>3.96</td>\n      <td>1.31</td>\n      <td>1.95</td>\n      <td>3.45</td>\n      <td>6.70</td>\n      <td>1.83</td>\n      <td>1.83</td>\n      <td>Vitality Stadium (Bournemouth- Dorset)</td>\n    </tr>\n    <tr>\n      <td>3</td>\n      <td>1533996000</td>\n      <td>Aug 11 2018 - 2:00pm</td>\n      <td>complete</td>\n      <td>24821</td>\n      <td>Fulham</td>\n      <td>Crystal Palace</td>\n      <td>Mike Dean</td>\n      <td>1</td>\n      <td>0.0</td>\n      <td>0.0</td>\n      <td>...</td>\n      <td>2.31</td>\n      <td>3.44</td>\n      <td>3.26</td>\n      <td>1.28</td>\n      <td>1.87</td>\n      <td>3.20</td>\n      <td>7.00</td>\n      <td>1.71</td>\n      <td>2.00</td>\n      <td>Craven Cottage (London)</td>\n    </tr>\n    <tr>\n      <td>4</td>\n      <td>1533996000</td>\n      <td>Aug 11 2018 - 2:00pm</td>\n      <td>complete</td>\n      <td>24121</td>\n      <td>Huddersfield Town</td>\n      <td>Chelsea</td>\n      <td>Chris Kavanagh</td>\n      <td>1</td>\n      <td>0.0</td>\n      <td>0.0</td>\n      <td>...</td>\n      <td>7.47</td>\n      <td>4.27</td>\n      <td>1.51</td>\n      <td>1.29</td>\n      <td>1.91</td>\n      <td>3.30</td>\n      <td>6.95</td>\n      <td>2.00</td>\n      <td>1.71</td>\n      <td>John Smith's Stadium (Huddersfield- West Yorks...</td>\n    </tr>\n  </tbody>\n</table>\n<p>5 rows × 64 columns</p>\n</div>"
     },
     "metadata": {},
     "execution_count": 102
    }
   ],
   "source": [
    "df = pd.read_csv(r'D:\\git_space\\data\\Premier-League_18-19seasons_matches.csv')\n",
    "df.head()"
   ]
  },
  {
   "source": [
    "### PPG: Points Per Game, Pre-match는 프리시즌이기 때문에 쓸모없다 FT(Full Time) odds: 풀타임 배댱률 xg: Expected Goals"
   ],
   "cell_type": "markdown",
   "metadata": {}
  },
  {
   "cell_type": "code",
   "execution_count": 103,
   "metadata": {},
   "outputs": [
    {
     "output_type": "stream",
     "name": "stdout",
     "text": [
      "<class 'pandas.core.frame.DataFrame'>\nRangeIndex: 380 entries, 0 to 379\nData columns (total 64 columns):\ntimestamp                              380 non-null int64\ndate_GMT                               380 non-null object\nstatus                                 380 non-null object\nattendance                             380 non-null int64\nhome_team_name                         380 non-null object\naway_team_name                         380 non-null object\nreferee                                380 non-null object\nGame Week                              380 non-null int64\nPre-Match PPG (Home)                   380 non-null float64\nPre-Match PPG (Away)                   380 non-null float64\nhome_ppg                               380 non-null float64\naway_ppg                               380 non-null float64\nhome_team_goal_count                   380 non-null int64\naway_team_goal_count                   380 non-null int64\ntotal_goal_count                       380 non-null int64\ntotal_goals_at_half_time               380 non-null int64\nhome_team_goal_count_half_time         380 non-null int64\naway_team_goal_count_half_time         380 non-null int64\nhome_team_goal_timings                 292 non-null object\naway_team_goal_timings                 261 non-null object\nhome_team_corner_count                 380 non-null int64\naway_team_corner_count                 380 non-null int64\nhome_team_yellow_cards                 380 non-null int64\nhome_team_red_cards                    380 non-null int64\naway_team_yellow_cards                 380 non-null int64\naway_team_red_cards                    380 non-null int64\nhome_team_first_half_cards             380 non-null int64\nhome_team_second_half_cards            380 non-null int64\naway_team_first_half_cards             380 non-null int64\naway_team_second_half_cards            380 non-null int64\nhome_team_shots                        380 non-null int64\naway_team_shots                        380 non-null int64\nhome_team_shots_on_target              380 non-null int64\naway_team_shots_on_target              380 non-null int64\nhome_team_shots_off_target             380 non-null int64\naway_team_shots_off_target             380 non-null int64\nhome_team_fouls                        380 non-null int64\naway_team_fouls                        380 non-null int64\nhome_team_possession                   380 non-null int64\naway_team_possession                   380 non-null int64\nteam_a_xg                              380 non-null float64\nteam_b_xg                              380 non-null float64\naverage_goals_per_match_pre_match      380 non-null float64\nbtts_percentage_pre_match              380 non-null int64\nover_15_percentage_pre_match           380 non-null int64\nover_25_percentage_pre_match           380 non-null int64\nover_35_percentage_pre_match           380 non-null int64\nover_45_percentage_pre_match           380 non-null int64\nover_15_HT_FHG_percentage_pre_match    380 non-null int64\nover_05_HT_FHG_percentage_pre_match    380 non-null int64\nover_15_2HG_percentage_pre_match       380 non-null int64\nover_05_2HG_percentage_pre_match       380 non-null int64\naverage_corners_per_match_pre_match    380 non-null float64\naverage_cards_per_match_pre_match      380 non-null float64\nodds_ft_home_team_win                  380 non-null float64\nodds_ft_draw                           380 non-null float64\nodds_ft_away_team_win                  380 non-null float64\nodds_ft_over15                         380 non-null float64\nodds_ft_over25                         380 non-null float64\nodds_ft_over35                         380 non-null float64\nodds_ft_over45                         380 non-null float64\nodds_btts_yes                          380 non-null float64\nodds_btts_no                           380 non-null float64\nstadium_name                           380 non-null object\ndtypes: float64(18), int64(38), object(8)\nmemory usage: 190.1+ KB\n"
     ]
    }
   ],
   "source": [
    "df.info()"
   ]
  },
  {
   "cell_type": "code",
   "execution_count": 104,
   "metadata": {},
   "outputs": [
    {
     "output_type": "execute_result",
     "data": {
      "text/plain": [
       "timestamp         0\n",
       "date_GMT          0\n",
       "status            0\n",
       "attendance        0\n",
       "home_team_name    0\n",
       "                 ..\n",
       "odds_ft_over35    0\n",
       "odds_ft_over45    0\n",
       "odds_btts_yes     0\n",
       "odds_btts_no      0\n",
       "stadium_name      0\n",
       "Length: 64, dtype: int64"
      ]
     },
     "metadata": {},
     "execution_count": 104
    }
   ],
   "source": [
    "df.isnull().sum()"
   ]
  },
  {
   "cell_type": "code",
   "execution_count": 105,
   "metadata": {},
   "outputs": [
    {
     "output_type": "execute_result",
     "data": {
      "text/plain": [
       "   attendance     home_team_name     away_team_name  home_ppg  away_ppg  \\\n",
       "0       74439  Manchester United     Leicester City      1.89      1.32   \n",
       "1       51749   Newcastle United  Tottenham Hotspur      1.32      1.74   \n",
       "2       10353    AFC Bournemouth       Cardiff City      1.53      0.74   \n",
       "3       24821             Fulham     Crystal Palace      1.11      1.53   \n",
       "4       24121  Huddersfield Town            Chelsea      0.47      1.58   \n",
       "\n",
       "   home_team_goal_count  away_team_goal_count  team_a_xg  team_b_xg  \\\n",
       "0                     2                     1       1.25       1.46   \n",
       "1                     1                     2       1.18       1.58   \n",
       "2                     2                     0       1.50       0.89   \n",
       "3                     0                     2       1.67       1.81   \n",
       "4                     0                     3       0.90       1.17   \n",
       "\n",
       "   odds_ft_home_team_win  odds_ft_draw  odds_ft_away_team_win  \n",
       "0                   1.37          4.98                   9.81  \n",
       "1                   4.51          3.77                   1.84  \n",
       "2                   2.03          3.51                   3.96  \n",
       "3                   2.31          3.44                   3.26  \n",
       "4                   7.47          4.27                   1.51  "
      ],
      "text/html": "<div>\n<style scoped>\n    .dataframe tbody tr th:only-of-type {\n        vertical-align: middle;\n    }\n\n    .dataframe tbody tr th {\n        vertical-align: top;\n    }\n\n    .dataframe thead th {\n        text-align: right;\n    }\n</style>\n<table border=\"1\" class=\"dataframe\">\n  <thead>\n    <tr style=\"text-align: right;\">\n      <th></th>\n      <th>attendance</th>\n      <th>home_team_name</th>\n      <th>away_team_name</th>\n      <th>home_ppg</th>\n      <th>away_ppg</th>\n      <th>home_team_goal_count</th>\n      <th>away_team_goal_count</th>\n      <th>team_a_xg</th>\n      <th>team_b_xg</th>\n      <th>odds_ft_home_team_win</th>\n      <th>odds_ft_draw</th>\n      <th>odds_ft_away_team_win</th>\n    </tr>\n  </thead>\n  <tbody>\n    <tr>\n      <td>0</td>\n      <td>74439</td>\n      <td>Manchester United</td>\n      <td>Leicester City</td>\n      <td>1.89</td>\n      <td>1.32</td>\n      <td>2</td>\n      <td>1</td>\n      <td>1.25</td>\n      <td>1.46</td>\n      <td>1.37</td>\n      <td>4.98</td>\n      <td>9.81</td>\n    </tr>\n    <tr>\n      <td>1</td>\n      <td>51749</td>\n      <td>Newcastle United</td>\n      <td>Tottenham Hotspur</td>\n      <td>1.32</td>\n      <td>1.74</td>\n      <td>1</td>\n      <td>2</td>\n      <td>1.18</td>\n      <td>1.58</td>\n      <td>4.51</td>\n      <td>3.77</td>\n      <td>1.84</td>\n    </tr>\n    <tr>\n      <td>2</td>\n      <td>10353</td>\n      <td>AFC Bournemouth</td>\n      <td>Cardiff City</td>\n      <td>1.53</td>\n      <td>0.74</td>\n      <td>2</td>\n      <td>0</td>\n      <td>1.50</td>\n      <td>0.89</td>\n      <td>2.03</td>\n      <td>3.51</td>\n      <td>3.96</td>\n    </tr>\n    <tr>\n      <td>3</td>\n      <td>24821</td>\n      <td>Fulham</td>\n      <td>Crystal Palace</td>\n      <td>1.11</td>\n      <td>1.53</td>\n      <td>0</td>\n      <td>2</td>\n      <td>1.67</td>\n      <td>1.81</td>\n      <td>2.31</td>\n      <td>3.44</td>\n      <td>3.26</td>\n    </tr>\n    <tr>\n      <td>4</td>\n      <td>24121</td>\n      <td>Huddersfield Town</td>\n      <td>Chelsea</td>\n      <td>0.47</td>\n      <td>1.58</td>\n      <td>0</td>\n      <td>3</td>\n      <td>0.90</td>\n      <td>1.17</td>\n      <td>7.47</td>\n      <td>4.27</td>\n      <td>1.51</td>\n    </tr>\n  </tbody>\n</table>\n</div>"
     },
     "metadata": {},
     "execution_count": 105
    }
   ],
   "source": [
    "# 의미없는 column 삭제\n",
    "meaningless_data = ['timestamp', 'date_GMT', 'status', 'referee', 'Game Week', 'Pre-Match PPG (Home)', 'Pre-Match PPG (Away)',                          'average_goals_per_match_pre_match', 'btts_percentage_pre_match', 'over_15_percentage_pre_match', 'over_25_percentage_pre_match', 'over_35_percentage_pre_match', 'over_45_percentage_pre_match', 'over_15_HT_FHG_percentage_pre_match', 'over_05_HT_FHG_percentage_pre_match', 'over_15_2HG_percentage_pre_match', 'over_05_2HG_percentage_pre_match', 'average_corners_per_match_pre_match', 'average_cards_per_match_pre_match', 'odds_ft_over15', 'odds_ft_over25', 'odds_ft_over35', 'odds_ft_over45', 'odds_btts_yes', 'odds_btts_no', 'stadium_name']\n",
    "\n",
    "# 경기시작 전에 알 수 없는 column 삭제(예측을 해야 하기 때문에 경기 기록 data를 사용하면 안된다)\n",
    "unknown_data = ['total_goal_count', 'total_goals_at_half_time', 'home_team_goal_count_half_time', 'away_team_goal_count_half_time', 'home_team_goal_timings', 'away_team_goal_timings', 'home_team_corner_count', 'away_team_corner_count', 'home_team_yellow_cards', 'home_team_red_cards', 'away_team_yellow_cards', 'away_team_red_cards', 'home_team_first_half_cards', 'home_team_second_half_cards', 'away_team_first_half_cards', 'away_team_second_half_cards', 'home_team_shots', 'away_team_shots', 'home_team_shots_on_target', 'away_team_shots_on_target', 'home_team_shots_off_target', 'away_team_shots_off_target', 'home_team_fouls', 'away_team_fouls', 'home_team_possession', 'away_team_possession',]\n",
    "\n",
    "df = df.drop(meaningless_data + unknown_data, axis=1)\n",
    "\n",
    "df.head()"
   ]
  },
  {
   "source": [
    "### 팀명은 아직 새롭게 추가할 data를 위하여 남겨놓자"
   ],
   "cell_type": "markdown",
   "metadata": {}
  },
  {
   "source": [
    "### 현재 data는 승무패가 아닌 점수로 column이 되어있으므로 승무패 column으로 바꿔준다. 이는 home team 기준 승무패로 설정 => 승:2 무:1 패:0\n",
    "    - away team은 이 반대로 해주고 무만 같게 한다"
   ],
   "cell_type": "markdown",
   "metadata": {}
  },
  {
   "cell_type": "code",
   "execution_count": 106,
   "metadata": {},
   "outputs": [
    {
     "output_type": "execute_result",
     "data": {
      "text/plain": [
       "     attendance     home_team_name           away_team_name  home_ppg  \\\n",
       "0         74439  Manchester United           Leicester City      1.89   \n",
       "1         51749   Newcastle United        Tottenham Hotspur      1.32   \n",
       "2         10353    AFC Bournemouth             Cardiff City      1.53   \n",
       "3         24821             Fulham           Crystal Palace      1.11   \n",
       "4         24121  Huddersfield Town                  Chelsea      0.47   \n",
       "..          ...                ...                      ...       ...   \n",
       "375       53331          Liverpool  Wolverhampton Wanderers      2.79   \n",
       "376       74457  Manchester United             Cardiff City      1.89   \n",
       "377       30367        Southampton        Huddersfield Town      1.21   \n",
       "378       60124  Tottenham Hotspur                  Everton      2.00   \n",
       "379       20067            Watford          West Ham United      1.42   \n",
       "\n",
       "     away_ppg  home_team_goal_count  away_team_goal_count  team_a_xg  \\\n",
       "0        1.32                     2                     1       1.25   \n",
       "1        1.74                     1                     2       1.18   \n",
       "2        0.74                     2                     0       1.50   \n",
       "3        1.53                     0                     2       1.67   \n",
       "4        1.58                     0                     3       0.90   \n",
       "..        ...                   ...                   ...        ...   \n",
       "375      1.21                     2                     0       1.40   \n",
       "376      0.74                     0                     2       2.67   \n",
       "377      0.37                     1                     1       1.15   \n",
       "378      1.05                     2                     2       1.23   \n",
       "379      1.11                     1                     4       1.81   \n",
       "\n",
       "     team_b_xg  odds_ft_home_team_win  odds_ft_draw  odds_ft_away_team_win  \\\n",
       "0         1.46                   1.37          4.98                   9.81   \n",
       "1         1.58                   4.51          3.77                   1.84   \n",
       "2         0.89                   2.03          3.51                   3.96   \n",
       "3         1.81                   2.31          3.44                   3.26   \n",
       "4         1.17                   7.47          4.27                   1.51   \n",
       "..         ...                    ...           ...                    ...   \n",
       "375       0.92                   1.32          5.80                   9.00   \n",
       "376       1.31                   1.28          6.20                  10.00   \n",
       "377       1.04                   1.41          4.90                   7.50   \n",
       "378       1.80                   2.10          3.50                   3.55   \n",
       "379       2.01                   2.20          3.70                   3.10   \n",
       "\n",
       "     difference  home_team_result  \n",
       "0             1                 2  \n",
       "1            -1                 0  \n",
       "2             2                 2  \n",
       "3            -2                 0  \n",
       "4            -3                 0  \n",
       "..          ...               ...  \n",
       "375           2                 2  \n",
       "376          -2                 0  \n",
       "377           0                 1  \n",
       "378           0                 1  \n",
       "379          -3                 0  \n",
       "\n",
       "[380 rows x 14 columns]"
      ],
      "text/html": "<div>\n<style scoped>\n    .dataframe tbody tr th:only-of-type {\n        vertical-align: middle;\n    }\n\n    .dataframe tbody tr th {\n        vertical-align: top;\n    }\n\n    .dataframe thead th {\n        text-align: right;\n    }\n</style>\n<table border=\"1\" class=\"dataframe\">\n  <thead>\n    <tr style=\"text-align: right;\">\n      <th></th>\n      <th>attendance</th>\n      <th>home_team_name</th>\n      <th>away_team_name</th>\n      <th>home_ppg</th>\n      <th>away_ppg</th>\n      <th>home_team_goal_count</th>\n      <th>away_team_goal_count</th>\n      <th>team_a_xg</th>\n      <th>team_b_xg</th>\n      <th>odds_ft_home_team_win</th>\n      <th>odds_ft_draw</th>\n      <th>odds_ft_away_team_win</th>\n      <th>difference</th>\n      <th>home_team_result</th>\n    </tr>\n  </thead>\n  <tbody>\n    <tr>\n      <td>0</td>\n      <td>74439</td>\n      <td>Manchester United</td>\n      <td>Leicester City</td>\n      <td>1.89</td>\n      <td>1.32</td>\n      <td>2</td>\n      <td>1</td>\n      <td>1.25</td>\n      <td>1.46</td>\n      <td>1.37</td>\n      <td>4.98</td>\n      <td>9.81</td>\n      <td>1</td>\n      <td>2</td>\n    </tr>\n    <tr>\n      <td>1</td>\n      <td>51749</td>\n      <td>Newcastle United</td>\n      <td>Tottenham Hotspur</td>\n      <td>1.32</td>\n      <td>1.74</td>\n      <td>1</td>\n      <td>2</td>\n      <td>1.18</td>\n      <td>1.58</td>\n      <td>4.51</td>\n      <td>3.77</td>\n      <td>1.84</td>\n      <td>-1</td>\n      <td>0</td>\n    </tr>\n    <tr>\n      <td>2</td>\n      <td>10353</td>\n      <td>AFC Bournemouth</td>\n      <td>Cardiff City</td>\n      <td>1.53</td>\n      <td>0.74</td>\n      <td>2</td>\n      <td>0</td>\n      <td>1.50</td>\n      <td>0.89</td>\n      <td>2.03</td>\n      <td>3.51</td>\n      <td>3.96</td>\n      <td>2</td>\n      <td>2</td>\n    </tr>\n    <tr>\n      <td>3</td>\n      <td>24821</td>\n      <td>Fulham</td>\n      <td>Crystal Palace</td>\n      <td>1.11</td>\n      <td>1.53</td>\n      <td>0</td>\n      <td>2</td>\n      <td>1.67</td>\n      <td>1.81</td>\n      <td>2.31</td>\n      <td>3.44</td>\n      <td>3.26</td>\n      <td>-2</td>\n      <td>0</td>\n    </tr>\n    <tr>\n      <td>4</td>\n      <td>24121</td>\n      <td>Huddersfield Town</td>\n      <td>Chelsea</td>\n      <td>0.47</td>\n      <td>1.58</td>\n      <td>0</td>\n      <td>3</td>\n      <td>0.90</td>\n      <td>1.17</td>\n      <td>7.47</td>\n      <td>4.27</td>\n      <td>1.51</td>\n      <td>-3</td>\n      <td>0</td>\n    </tr>\n    <tr>\n      <td>...</td>\n      <td>...</td>\n      <td>...</td>\n      <td>...</td>\n      <td>...</td>\n      <td>...</td>\n      <td>...</td>\n      <td>...</td>\n      <td>...</td>\n      <td>...</td>\n      <td>...</td>\n      <td>...</td>\n      <td>...</td>\n      <td>...</td>\n      <td>...</td>\n    </tr>\n    <tr>\n      <td>375</td>\n      <td>53331</td>\n      <td>Liverpool</td>\n      <td>Wolverhampton Wanderers</td>\n      <td>2.79</td>\n      <td>1.21</td>\n      <td>2</td>\n      <td>0</td>\n      <td>1.40</td>\n      <td>0.92</td>\n      <td>1.32</td>\n      <td>5.80</td>\n      <td>9.00</td>\n      <td>2</td>\n      <td>2</td>\n    </tr>\n    <tr>\n      <td>376</td>\n      <td>74457</td>\n      <td>Manchester United</td>\n      <td>Cardiff City</td>\n      <td>1.89</td>\n      <td>0.74</td>\n      <td>0</td>\n      <td>2</td>\n      <td>2.67</td>\n      <td>1.31</td>\n      <td>1.28</td>\n      <td>6.20</td>\n      <td>10.00</td>\n      <td>-2</td>\n      <td>0</td>\n    </tr>\n    <tr>\n      <td>377</td>\n      <td>30367</td>\n      <td>Southampton</td>\n      <td>Huddersfield Town</td>\n      <td>1.21</td>\n      <td>0.37</td>\n      <td>1</td>\n      <td>1</td>\n      <td>1.15</td>\n      <td>1.04</td>\n      <td>1.41</td>\n      <td>4.90</td>\n      <td>7.50</td>\n      <td>0</td>\n      <td>1</td>\n    </tr>\n    <tr>\n      <td>378</td>\n      <td>60124</td>\n      <td>Tottenham Hotspur</td>\n      <td>Everton</td>\n      <td>2.00</td>\n      <td>1.05</td>\n      <td>2</td>\n      <td>2</td>\n      <td>1.23</td>\n      <td>1.80</td>\n      <td>2.10</td>\n      <td>3.50</td>\n      <td>3.55</td>\n      <td>0</td>\n      <td>1</td>\n    </tr>\n    <tr>\n      <td>379</td>\n      <td>20067</td>\n      <td>Watford</td>\n      <td>West Ham United</td>\n      <td>1.42</td>\n      <td>1.11</td>\n      <td>1</td>\n      <td>4</td>\n      <td>1.81</td>\n      <td>2.01</td>\n      <td>2.20</td>\n      <td>3.70</td>\n      <td>3.10</td>\n      <td>-3</td>\n      <td>0</td>\n    </tr>\n  </tbody>\n</table>\n<p>380 rows × 14 columns</p>\n</div>"
     },
     "metadata": {},
     "execution_count": 106
    }
   ],
   "source": [
    "# 홈팀 득점 수 - 어웨이팀 득점 수 column 생성\n",
    "df['difference'] = df['home_team_goal_count'] - df['away_team_goal_count']\n",
    "df.head()\n",
    "\n",
    "# difference column의 data가 양수(홈팀 승)면 2반환, 0(무승부)이면 1반환, 음수(홈팀 패)면 0반환\n",
    "def func(x):\n",
    "    if x > 0:\n",
    "        return 2\n",
    "    elif x == 0:\n",
    "        return 1\n",
    "    else:\n",
    "        return 0\n",
    "\n",
    "# 홈팀의 승무패 정보를 담는 column 생성\n",
    "df['home_team_result'] = df['difference'].apply(lambda x : func(x))\n",
    "df"
   ]
  },
  {
   "cell_type": "code",
   "execution_count": 107,
   "metadata": {},
   "outputs": [
    {
     "output_type": "execute_result",
     "data": {
      "text/plain": [
       "     attendance     home_team_name           away_team_name  home_ppg  \\\n",
       "0         74439  Manchester United           Leicester City      1.89   \n",
       "1         51749   Newcastle United        Tottenham Hotspur      1.32   \n",
       "2         10353    AFC Bournemouth             Cardiff City      1.53   \n",
       "3         24821             Fulham           Crystal Palace      1.11   \n",
       "4         24121  Huddersfield Town                  Chelsea      0.47   \n",
       "..          ...                ...                      ...       ...   \n",
       "375       53331          Liverpool  Wolverhampton Wanderers      2.79   \n",
       "376       74457  Manchester United             Cardiff City      1.89   \n",
       "377       30367        Southampton        Huddersfield Town      1.21   \n",
       "378       60124  Tottenham Hotspur                  Everton      2.00   \n",
       "379       20067            Watford          West Ham United      1.42   \n",
       "\n",
       "     away_ppg  team_a_xg  team_b_xg  odds_ft_home_team_win  odds_ft_draw  \\\n",
       "0        1.32       1.25       1.46                   1.37          4.98   \n",
       "1        1.74       1.18       1.58                   4.51          3.77   \n",
       "2        0.74       1.50       0.89                   2.03          3.51   \n",
       "3        1.53       1.67       1.81                   2.31          3.44   \n",
       "4        1.58       0.90       1.17                   7.47          4.27   \n",
       "..        ...        ...        ...                    ...           ...   \n",
       "375      1.21       1.40       0.92                   1.32          5.80   \n",
       "376      0.74       2.67       1.31                   1.28          6.20   \n",
       "377      0.37       1.15       1.04                   1.41          4.90   \n",
       "378      1.05       1.23       1.80                   2.10          3.50   \n",
       "379      1.11       1.81       2.01                   2.20          3.70   \n",
       "\n",
       "     odds_ft_away_team_win  home_team_result  \n",
       "0                     9.81                 2  \n",
       "1                     1.84                 0  \n",
       "2                     3.96                 2  \n",
       "3                     3.26                 0  \n",
       "4                     1.51                 0  \n",
       "..                     ...               ...  \n",
       "375                   9.00                 2  \n",
       "376                  10.00                 0  \n",
       "377                   7.50                 1  \n",
       "378                   3.55                 1  \n",
       "379                   3.10                 0  \n",
       "\n",
       "[380 rows x 11 columns]"
      ],
      "text/html": "<div>\n<style scoped>\n    .dataframe tbody tr th:only-of-type {\n        vertical-align: middle;\n    }\n\n    .dataframe tbody tr th {\n        vertical-align: top;\n    }\n\n    .dataframe thead th {\n        text-align: right;\n    }\n</style>\n<table border=\"1\" class=\"dataframe\">\n  <thead>\n    <tr style=\"text-align: right;\">\n      <th></th>\n      <th>attendance</th>\n      <th>home_team_name</th>\n      <th>away_team_name</th>\n      <th>home_ppg</th>\n      <th>away_ppg</th>\n      <th>team_a_xg</th>\n      <th>team_b_xg</th>\n      <th>odds_ft_home_team_win</th>\n      <th>odds_ft_draw</th>\n      <th>odds_ft_away_team_win</th>\n      <th>home_team_result</th>\n    </tr>\n  </thead>\n  <tbody>\n    <tr>\n      <td>0</td>\n      <td>74439</td>\n      <td>Manchester United</td>\n      <td>Leicester City</td>\n      <td>1.89</td>\n      <td>1.32</td>\n      <td>1.25</td>\n      <td>1.46</td>\n      <td>1.37</td>\n      <td>4.98</td>\n      <td>9.81</td>\n      <td>2</td>\n    </tr>\n    <tr>\n      <td>1</td>\n      <td>51749</td>\n      <td>Newcastle United</td>\n      <td>Tottenham Hotspur</td>\n      <td>1.32</td>\n      <td>1.74</td>\n      <td>1.18</td>\n      <td>1.58</td>\n      <td>4.51</td>\n      <td>3.77</td>\n      <td>1.84</td>\n      <td>0</td>\n    </tr>\n    <tr>\n      <td>2</td>\n      <td>10353</td>\n      <td>AFC Bournemouth</td>\n      <td>Cardiff City</td>\n      <td>1.53</td>\n      <td>0.74</td>\n      <td>1.50</td>\n      <td>0.89</td>\n      <td>2.03</td>\n      <td>3.51</td>\n      <td>3.96</td>\n      <td>2</td>\n    </tr>\n    <tr>\n      <td>3</td>\n      <td>24821</td>\n      <td>Fulham</td>\n      <td>Crystal Palace</td>\n      <td>1.11</td>\n      <td>1.53</td>\n      <td>1.67</td>\n      <td>1.81</td>\n      <td>2.31</td>\n      <td>3.44</td>\n      <td>3.26</td>\n      <td>0</td>\n    </tr>\n    <tr>\n      <td>4</td>\n      <td>24121</td>\n      <td>Huddersfield Town</td>\n      <td>Chelsea</td>\n      <td>0.47</td>\n      <td>1.58</td>\n      <td>0.90</td>\n      <td>1.17</td>\n      <td>7.47</td>\n      <td>4.27</td>\n      <td>1.51</td>\n      <td>0</td>\n    </tr>\n    <tr>\n      <td>...</td>\n      <td>...</td>\n      <td>...</td>\n      <td>...</td>\n      <td>...</td>\n      <td>...</td>\n      <td>...</td>\n      <td>...</td>\n      <td>...</td>\n      <td>...</td>\n      <td>...</td>\n      <td>...</td>\n    </tr>\n    <tr>\n      <td>375</td>\n      <td>53331</td>\n      <td>Liverpool</td>\n      <td>Wolverhampton Wanderers</td>\n      <td>2.79</td>\n      <td>1.21</td>\n      <td>1.40</td>\n      <td>0.92</td>\n      <td>1.32</td>\n      <td>5.80</td>\n      <td>9.00</td>\n      <td>2</td>\n    </tr>\n    <tr>\n      <td>376</td>\n      <td>74457</td>\n      <td>Manchester United</td>\n      <td>Cardiff City</td>\n      <td>1.89</td>\n      <td>0.74</td>\n      <td>2.67</td>\n      <td>1.31</td>\n      <td>1.28</td>\n      <td>6.20</td>\n      <td>10.00</td>\n      <td>0</td>\n    </tr>\n    <tr>\n      <td>377</td>\n      <td>30367</td>\n      <td>Southampton</td>\n      <td>Huddersfield Town</td>\n      <td>1.21</td>\n      <td>0.37</td>\n      <td>1.15</td>\n      <td>1.04</td>\n      <td>1.41</td>\n      <td>4.90</td>\n      <td>7.50</td>\n      <td>1</td>\n    </tr>\n    <tr>\n      <td>378</td>\n      <td>60124</td>\n      <td>Tottenham Hotspur</td>\n      <td>Everton</td>\n      <td>2.00</td>\n      <td>1.05</td>\n      <td>1.23</td>\n      <td>1.80</td>\n      <td>2.10</td>\n      <td>3.50</td>\n      <td>3.55</td>\n      <td>1</td>\n    </tr>\n    <tr>\n      <td>379</td>\n      <td>20067</td>\n      <td>Watford</td>\n      <td>West Ham United</td>\n      <td>1.42</td>\n      <td>1.11</td>\n      <td>1.81</td>\n      <td>2.01</td>\n      <td>2.20</td>\n      <td>3.70</td>\n      <td>3.10</td>\n      <td>0</td>\n    </tr>\n  </tbody>\n</table>\n<p>380 rows × 11 columns</p>\n</div>"
     },
     "metadata": {},
     "execution_count": 107
    }
   ],
   "source": [
    "# 팀의 정보를 하나의 column에 담았으니 쓸모 없어진 홈팀, 어웨이팀 득점 수, difference column은 삭제한다\n",
    "\n",
    "df.drop(['home_team_goal_count', 'away_team_goal_count', 'difference'], axis=1, inplace=True)\n",
    "df"
   ]
  },
  {
   "cell_type": "code",
   "execution_count": null,
   "metadata": {},
   "outputs": [],
   "source": []
  }
 ]
}