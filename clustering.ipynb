{
 "metadata": {
  "language_info": {
   "codemirror_mode": {
    "name": "ipython",
    "version": 3
   },
   "file_extension": ".py",
   "mimetype": "text/x-python",
   "name": "python",
   "nbconvert_exporter": "python",
   "pygments_lexer": "ipython3",
   "version": "3.7.4-final"
  },
  "orig_nbformat": 2,
  "kernelspec": {
   "name": "python3",
   "display_name": "Python 3",
   "language": "python"
  }
 },
 "nbformat": 4,
 "nbformat_minor": 2,
 "cells": [
  {
   "cell_type": "code",
   "execution_count": 34,
   "metadata": {},
   "outputs": [],
   "source": [
    "import numpy as np \n",
    "import pandas as pd \n",
    "import matplotlib.pyplot as plt \n",
    "import seaborn as sns \n",
    "\n",
    "%matplotlib inline"
   ]
  },
  {
   "cell_type": "code",
   "execution_count": 35,
   "metadata": {},
   "outputs": [
    {
     "output_type": "execute_result",
     "data": {
      "text/plain": [
       "           name  midterm  final  attendance  attitude  homework  grade\n",
       "0       Ronaldo       90     94          10         8         8      2\n",
       "1           Son       85     90          10         9         8      2\n",
       "2         Messi       98     97          10         9        10      2\n",
       "3        Dybala       75     70           8         8         9      1\n",
       "4     Griezmann       70     65           8         7         7      1\n",
       "5       Benzema       82     90           8         7         7      2\n",
       "6        Neymar       95     91           7         5         8      2\n",
       "7        Mbappe       90     97           9         9         9      2\n",
       "8        Sancho       64     70           7         8         9      1\n",
       "9         Pogba       59     45           4         5         6      0\n",
       "10  Ibrahimovic       60     70           9         9         9      1\n",
       "11         Ozil       31     56           4         7         7      0\n",
       "12       Werner       80     85           9        10         9      1\n",
       "13        Kroos       70     75          10        10        10      1\n",
       "14      Kimmich       89     91          10        10        10      2\n",
       "15      De Jong       87     61           7         9         8      1\n",
       "16         Mane       89     87           9         7         7      2\n",
       "17  Lewandowski       94     91           9         9        10      2\n",
       "18         Park       65     31           4         9         7      0\n",
       "19         Alli       36     45           4         5         6      0\n",
       "20    De Bruyne       89     96           8         8         9      2\n",
       "21      Mertens       75     70           7         7         7      1\n",
       "22      Harzard       56     64           6         6         5      0\n",
       "23        Kante       51     56           6         8         9      0\n",
       "24      Insigne       67     72           8         8         7      0\n",
       "25       Lukaku       23     34           8         7         8      0\n",
       "26      Eriksen       21     14           2         5         8      0\n",
       "27        Silva       87     64           9        10         9      1\n",
       "28       Suarez       45     72           8         7         7      0\n",
       "29      Lingard       34     45           8         2         7      0\n",
       "30        Ramos       78     89          10         7         9      1"
      ],
      "text/html": "<div>\n<style scoped>\n    .dataframe tbody tr th:only-of-type {\n        vertical-align: middle;\n    }\n\n    .dataframe tbody tr th {\n        vertical-align: top;\n    }\n\n    .dataframe thead th {\n        text-align: right;\n    }\n</style>\n<table border=\"1\" class=\"dataframe\">\n  <thead>\n    <tr style=\"text-align: right;\">\n      <th></th>\n      <th>name</th>\n      <th>midterm</th>\n      <th>final</th>\n      <th>attendance</th>\n      <th>attitude</th>\n      <th>homework</th>\n      <th>grade</th>\n    </tr>\n  </thead>\n  <tbody>\n    <tr>\n      <td>0</td>\n      <td>Ronaldo</td>\n      <td>90</td>\n      <td>94</td>\n      <td>10</td>\n      <td>8</td>\n      <td>8</td>\n      <td>2</td>\n    </tr>\n    <tr>\n      <td>1</td>\n      <td>Son</td>\n      <td>85</td>\n      <td>90</td>\n      <td>10</td>\n      <td>9</td>\n      <td>8</td>\n      <td>2</td>\n    </tr>\n    <tr>\n      <td>2</td>\n      <td>Messi</td>\n      <td>98</td>\n      <td>97</td>\n      <td>10</td>\n      <td>9</td>\n      <td>10</td>\n      <td>2</td>\n    </tr>\n    <tr>\n      <td>3</td>\n      <td>Dybala</td>\n      <td>75</td>\n      <td>70</td>\n      <td>8</td>\n      <td>8</td>\n      <td>9</td>\n      <td>1</td>\n    </tr>\n    <tr>\n      <td>4</td>\n      <td>Griezmann</td>\n      <td>70</td>\n      <td>65</td>\n      <td>8</td>\n      <td>7</td>\n      <td>7</td>\n      <td>1</td>\n    </tr>\n    <tr>\n      <td>5</td>\n      <td>Benzema</td>\n      <td>82</td>\n      <td>90</td>\n      <td>8</td>\n      <td>7</td>\n      <td>7</td>\n      <td>2</td>\n    </tr>\n    <tr>\n      <td>6</td>\n      <td>Neymar</td>\n      <td>95</td>\n      <td>91</td>\n      <td>7</td>\n      <td>5</td>\n      <td>8</td>\n      <td>2</td>\n    </tr>\n    <tr>\n      <td>7</td>\n      <td>Mbappe</td>\n      <td>90</td>\n      <td>97</td>\n      <td>9</td>\n      <td>9</td>\n      <td>9</td>\n      <td>2</td>\n    </tr>\n    <tr>\n      <td>8</td>\n      <td>Sancho</td>\n      <td>64</td>\n      <td>70</td>\n      <td>7</td>\n      <td>8</td>\n      <td>9</td>\n      <td>1</td>\n    </tr>\n    <tr>\n      <td>9</td>\n      <td>Pogba</td>\n      <td>59</td>\n      <td>45</td>\n      <td>4</td>\n      <td>5</td>\n      <td>6</td>\n      <td>0</td>\n    </tr>\n    <tr>\n      <td>10</td>\n      <td>Ibrahimovic</td>\n      <td>60</td>\n      <td>70</td>\n      <td>9</td>\n      <td>9</td>\n      <td>9</td>\n      <td>1</td>\n    </tr>\n    <tr>\n      <td>11</td>\n      <td>Ozil</td>\n      <td>31</td>\n      <td>56</td>\n      <td>4</td>\n      <td>7</td>\n      <td>7</td>\n      <td>0</td>\n    </tr>\n    <tr>\n      <td>12</td>\n      <td>Werner</td>\n      <td>80</td>\n      <td>85</td>\n      <td>9</td>\n      <td>10</td>\n      <td>9</td>\n      <td>1</td>\n    </tr>\n    <tr>\n      <td>13</td>\n      <td>Kroos</td>\n      <td>70</td>\n      <td>75</td>\n      <td>10</td>\n      <td>10</td>\n      <td>10</td>\n      <td>1</td>\n    </tr>\n    <tr>\n      <td>14</td>\n      <td>Kimmich</td>\n      <td>89</td>\n      <td>91</td>\n      <td>10</td>\n      <td>10</td>\n      <td>10</td>\n      <td>2</td>\n    </tr>\n    <tr>\n      <td>15</td>\n      <td>De Jong</td>\n      <td>87</td>\n      <td>61</td>\n      <td>7</td>\n      <td>9</td>\n      <td>8</td>\n      <td>1</td>\n    </tr>\n    <tr>\n      <td>16</td>\n      <td>Mane</td>\n      <td>89</td>\n      <td>87</td>\n      <td>9</td>\n      <td>7</td>\n      <td>7</td>\n      <td>2</td>\n    </tr>\n    <tr>\n      <td>17</td>\n      <td>Lewandowski</td>\n      <td>94</td>\n      <td>91</td>\n      <td>9</td>\n      <td>9</td>\n      <td>10</td>\n      <td>2</td>\n    </tr>\n    <tr>\n      <td>18</td>\n      <td>Park</td>\n      <td>65</td>\n      <td>31</td>\n      <td>4</td>\n      <td>9</td>\n      <td>7</td>\n      <td>0</td>\n    </tr>\n    <tr>\n      <td>19</td>\n      <td>Alli</td>\n      <td>36</td>\n      <td>45</td>\n      <td>4</td>\n      <td>5</td>\n      <td>6</td>\n      <td>0</td>\n    </tr>\n    <tr>\n      <td>20</td>\n      <td>De Bruyne</td>\n      <td>89</td>\n      <td>96</td>\n      <td>8</td>\n      <td>8</td>\n      <td>9</td>\n      <td>2</td>\n    </tr>\n    <tr>\n      <td>21</td>\n      <td>Mertens</td>\n      <td>75</td>\n      <td>70</td>\n      <td>7</td>\n      <td>7</td>\n      <td>7</td>\n      <td>1</td>\n    </tr>\n    <tr>\n      <td>22</td>\n      <td>Harzard</td>\n      <td>56</td>\n      <td>64</td>\n      <td>6</td>\n      <td>6</td>\n      <td>5</td>\n      <td>0</td>\n    </tr>\n    <tr>\n      <td>23</td>\n      <td>Kante</td>\n      <td>51</td>\n      <td>56</td>\n      <td>6</td>\n      <td>8</td>\n      <td>9</td>\n      <td>0</td>\n    </tr>\n    <tr>\n      <td>24</td>\n      <td>Insigne</td>\n      <td>67</td>\n      <td>72</td>\n      <td>8</td>\n      <td>8</td>\n      <td>7</td>\n      <td>0</td>\n    </tr>\n    <tr>\n      <td>25</td>\n      <td>Lukaku</td>\n      <td>23</td>\n      <td>34</td>\n      <td>8</td>\n      <td>7</td>\n      <td>8</td>\n      <td>0</td>\n    </tr>\n    <tr>\n      <td>26</td>\n      <td>Eriksen</td>\n      <td>21</td>\n      <td>14</td>\n      <td>2</td>\n      <td>5</td>\n      <td>8</td>\n      <td>0</td>\n    </tr>\n    <tr>\n      <td>27</td>\n      <td>Silva</td>\n      <td>87</td>\n      <td>64</td>\n      <td>9</td>\n      <td>10</td>\n      <td>9</td>\n      <td>1</td>\n    </tr>\n    <tr>\n      <td>28</td>\n      <td>Suarez</td>\n      <td>45</td>\n      <td>72</td>\n      <td>8</td>\n      <td>7</td>\n      <td>7</td>\n      <td>0</td>\n    </tr>\n    <tr>\n      <td>29</td>\n      <td>Lingard</td>\n      <td>34</td>\n      <td>45</td>\n      <td>8</td>\n      <td>2</td>\n      <td>7</td>\n      <td>0</td>\n    </tr>\n    <tr>\n      <td>30</td>\n      <td>Ramos</td>\n      <td>78</td>\n      <td>89</td>\n      <td>10</td>\n      <td>7</td>\n      <td>9</td>\n      <td>1</td>\n    </tr>\n  </tbody>\n</table>\n</div>"
     },
     "metadata": {},
     "execution_count": 35
    }
   ],
   "source": [
    "df = pd.read_csv(r'D:\\git_space\\data\\grade.csv')\n",
    "df"
   ]
  },
  {
   "cell_type": "code",
   "execution_count": 36,
   "metadata": {},
   "outputs": [],
   "source": [
    "df.drop('name', axis=1, inplace=True)"
   ]
  },
  {
   "cell_type": "code",
   "execution_count": 37,
   "metadata": {},
   "outputs": [],
   "source": [
    "features = df.drop('grade', axis=1, inplace=False)\n",
    "target = df['grade']"
   ]
  },
  {
   "cell_type": "code",
   "execution_count": 38,
   "metadata": {},
   "outputs": [],
   "source": [
    "from sklearn.preprocessing import StandardScaler\n",
    "from sklearn.cluster import KMeans\n",
    "from sklearn.decomposition import PCA\n",
    "\n",
    "df_scaled = StandardScaler().fit_transform(features) # data 정규화\n",
    "pca = PCA(n_components=2)\n",
    "pca.fit(df_scaled, target)\n",
    "df_pca = pca.transform(df_scaled)"
   ]
  },
  {
   "cell_type": "code",
   "execution_count": 39,
   "metadata": {},
   "outputs": [],
   "source": [
    "kmeans = KMeans(n_clusters=2, max_iter=3000)\n",
    "cluster_labels = kmeans.fit_predict(features)"
   ]
  },
  {
   "cell_type": "code",
   "execution_count": 40,
   "metadata": {},
   "outputs": [
    {
     "output_type": "execute_result",
     "data": {
      "text/plain": [
       "    midterm  final  attendance  attitude  homework  grade  cluster  \\\n",
       "0        90     94          10         8         8      2        0   \n",
       "1        85     90          10         9         8      2        0   \n",
       "2        98     97          10         9        10      2        0   \n",
       "3        75     70           8         8         9      1        0   \n",
       "4        70     65           8         7         7      1        0   \n",
       "5        82     90           8         7         7      2        0   \n",
       "6        95     91           7         5         8      2        0   \n",
       "7        90     97           9         9         9      2        0   \n",
       "8        64     70           7         8         9      1        0   \n",
       "9        59     45           4         5         6      0        1   \n",
       "10       60     70           9         9         9      1        0   \n",
       "11       31     56           4         7         7      0        1   \n",
       "12       80     85           9        10         9      1        0   \n",
       "13       70     75          10        10        10      1        0   \n",
       "14       89     91          10        10        10      2        0   \n",
       "15       87     61           7         9         8      1        0   \n",
       "16       89     87           9         7         7      2        0   \n",
       "17       94     91           9         9        10      2        0   \n",
       "18       65     31           4         9         7      0        1   \n",
       "19       36     45           4         5         6      0        1   \n",
       "20       89     96           8         8         9      2        0   \n",
       "21       75     70           7         7         7      1        0   \n",
       "22       56     64           6         6         5      0        1   \n",
       "23       51     56           6         8         9      0        1   \n",
       "24       67     72           8         8         7      0        0   \n",
       "25       23     34           8         7         8      0        1   \n",
       "26       21     14           2         5         8      0        1   \n",
       "27       87     64           9        10         9      1        0   \n",
       "28       45     72           8         7         7      0        1   \n",
       "29       34     45           8         2         7      0        1   \n",
       "30       78     89          10         7         9      1        0   \n",
       "\n",
       "    component1  component2  \n",
       "0    -1.597334   -0.930687  \n",
       "1    -1.629745   -0.471866  \n",
       "2    -2.692360    0.106330  \n",
       "3    -0.612487    0.452322  \n",
       "4     0.463126   -0.586487  \n",
       "5    -0.348063   -1.312913  \n",
       "6    -0.283066   -1.575013  \n",
       "7    -1.983346   -0.151721  \n",
       "8    -0.154728    0.703369  \n",
       "9     2.806838   -0.701316  \n",
       "10   -0.744484    0.890599  \n",
       "11    2.387769    0.538224  \n",
       "12   -1.731479    0.557104  \n",
       "13   -1.834993    1.305414  \n",
       "14   -2.595154    0.669253  \n",
       "15   -0.356985    0.383872  \n",
       "16   -0.653977   -1.438062  \n",
       "17   -2.250259    0.382255  \n",
       "18    1.764082    1.160762  \n",
       "19    3.296503   -0.353374  \n",
       "20   -1.488484   -0.326156  \n",
       "21    0.469106   -0.686464  \n",
       "22    2.088576   -1.407046  \n",
       "23    0.656809    1.289812  \n",
       "24    0.143623   -0.397674  \n",
       "25    1.837703    1.263905  \n",
       "26    4.121825    1.645918  \n",
       "27   -1.413711    0.908917  \n",
       "28    0.839772   -0.360858  \n",
       "29    2.812991   -1.085959  \n",
       "30   -1.318067   -0.472457  "
      ],
      "text/html": "<div>\n<style scoped>\n    .dataframe tbody tr th:only-of-type {\n        vertical-align: middle;\n    }\n\n    .dataframe tbody tr th {\n        vertical-align: top;\n    }\n\n    .dataframe thead th {\n        text-align: right;\n    }\n</style>\n<table border=\"1\" class=\"dataframe\">\n  <thead>\n    <tr style=\"text-align: right;\">\n      <th></th>\n      <th>midterm</th>\n      <th>final</th>\n      <th>attendance</th>\n      <th>attitude</th>\n      <th>homework</th>\n      <th>grade</th>\n      <th>cluster</th>\n      <th>component1</th>\n      <th>component2</th>\n    </tr>\n  </thead>\n  <tbody>\n    <tr>\n      <td>0</td>\n      <td>90</td>\n      <td>94</td>\n      <td>10</td>\n      <td>8</td>\n      <td>8</td>\n      <td>2</td>\n      <td>0</td>\n      <td>-1.597334</td>\n      <td>-0.930687</td>\n    </tr>\n    <tr>\n      <td>1</td>\n      <td>85</td>\n      <td>90</td>\n      <td>10</td>\n      <td>9</td>\n      <td>8</td>\n      <td>2</td>\n      <td>0</td>\n      <td>-1.629745</td>\n      <td>-0.471866</td>\n    </tr>\n    <tr>\n      <td>2</td>\n      <td>98</td>\n      <td>97</td>\n      <td>10</td>\n      <td>9</td>\n      <td>10</td>\n      <td>2</td>\n      <td>0</td>\n      <td>-2.692360</td>\n      <td>0.106330</td>\n    </tr>\n    <tr>\n      <td>3</td>\n      <td>75</td>\n      <td>70</td>\n      <td>8</td>\n      <td>8</td>\n      <td>9</td>\n      <td>1</td>\n      <td>0</td>\n      <td>-0.612487</td>\n      <td>0.452322</td>\n    </tr>\n    <tr>\n      <td>4</td>\n      <td>70</td>\n      <td>65</td>\n      <td>8</td>\n      <td>7</td>\n      <td>7</td>\n      <td>1</td>\n      <td>0</td>\n      <td>0.463126</td>\n      <td>-0.586487</td>\n    </tr>\n    <tr>\n      <td>5</td>\n      <td>82</td>\n      <td>90</td>\n      <td>8</td>\n      <td>7</td>\n      <td>7</td>\n      <td>2</td>\n      <td>0</td>\n      <td>-0.348063</td>\n      <td>-1.312913</td>\n    </tr>\n    <tr>\n      <td>6</td>\n      <td>95</td>\n      <td>91</td>\n      <td>7</td>\n      <td>5</td>\n      <td>8</td>\n      <td>2</td>\n      <td>0</td>\n      <td>-0.283066</td>\n      <td>-1.575013</td>\n    </tr>\n    <tr>\n      <td>7</td>\n      <td>90</td>\n      <td>97</td>\n      <td>9</td>\n      <td>9</td>\n      <td>9</td>\n      <td>2</td>\n      <td>0</td>\n      <td>-1.983346</td>\n      <td>-0.151721</td>\n    </tr>\n    <tr>\n      <td>8</td>\n      <td>64</td>\n      <td>70</td>\n      <td>7</td>\n      <td>8</td>\n      <td>9</td>\n      <td>1</td>\n      <td>0</td>\n      <td>-0.154728</td>\n      <td>0.703369</td>\n    </tr>\n    <tr>\n      <td>9</td>\n      <td>59</td>\n      <td>45</td>\n      <td>4</td>\n      <td>5</td>\n      <td>6</td>\n      <td>0</td>\n      <td>1</td>\n      <td>2.806838</td>\n      <td>-0.701316</td>\n    </tr>\n    <tr>\n      <td>10</td>\n      <td>60</td>\n      <td>70</td>\n      <td>9</td>\n      <td>9</td>\n      <td>9</td>\n      <td>1</td>\n      <td>0</td>\n      <td>-0.744484</td>\n      <td>0.890599</td>\n    </tr>\n    <tr>\n      <td>11</td>\n      <td>31</td>\n      <td>56</td>\n      <td>4</td>\n      <td>7</td>\n      <td>7</td>\n      <td>0</td>\n      <td>1</td>\n      <td>2.387769</td>\n      <td>0.538224</td>\n    </tr>\n    <tr>\n      <td>12</td>\n      <td>80</td>\n      <td>85</td>\n      <td>9</td>\n      <td>10</td>\n      <td>9</td>\n      <td>1</td>\n      <td>0</td>\n      <td>-1.731479</td>\n      <td>0.557104</td>\n    </tr>\n    <tr>\n      <td>13</td>\n      <td>70</td>\n      <td>75</td>\n      <td>10</td>\n      <td>10</td>\n      <td>10</td>\n      <td>1</td>\n      <td>0</td>\n      <td>-1.834993</td>\n      <td>1.305414</td>\n    </tr>\n    <tr>\n      <td>14</td>\n      <td>89</td>\n      <td>91</td>\n      <td>10</td>\n      <td>10</td>\n      <td>10</td>\n      <td>2</td>\n      <td>0</td>\n      <td>-2.595154</td>\n      <td>0.669253</td>\n    </tr>\n    <tr>\n      <td>15</td>\n      <td>87</td>\n      <td>61</td>\n      <td>7</td>\n      <td>9</td>\n      <td>8</td>\n      <td>1</td>\n      <td>0</td>\n      <td>-0.356985</td>\n      <td>0.383872</td>\n    </tr>\n    <tr>\n      <td>16</td>\n      <td>89</td>\n      <td>87</td>\n      <td>9</td>\n      <td>7</td>\n      <td>7</td>\n      <td>2</td>\n      <td>0</td>\n      <td>-0.653977</td>\n      <td>-1.438062</td>\n    </tr>\n    <tr>\n      <td>17</td>\n      <td>94</td>\n      <td>91</td>\n      <td>9</td>\n      <td>9</td>\n      <td>10</td>\n      <td>2</td>\n      <td>0</td>\n      <td>-2.250259</td>\n      <td>0.382255</td>\n    </tr>\n    <tr>\n      <td>18</td>\n      <td>65</td>\n      <td>31</td>\n      <td>4</td>\n      <td>9</td>\n      <td>7</td>\n      <td>0</td>\n      <td>1</td>\n      <td>1.764082</td>\n      <td>1.160762</td>\n    </tr>\n    <tr>\n      <td>19</td>\n      <td>36</td>\n      <td>45</td>\n      <td>4</td>\n      <td>5</td>\n      <td>6</td>\n      <td>0</td>\n      <td>1</td>\n      <td>3.296503</td>\n      <td>-0.353374</td>\n    </tr>\n    <tr>\n      <td>20</td>\n      <td>89</td>\n      <td>96</td>\n      <td>8</td>\n      <td>8</td>\n      <td>9</td>\n      <td>2</td>\n      <td>0</td>\n      <td>-1.488484</td>\n      <td>-0.326156</td>\n    </tr>\n    <tr>\n      <td>21</td>\n      <td>75</td>\n      <td>70</td>\n      <td>7</td>\n      <td>7</td>\n      <td>7</td>\n      <td>1</td>\n      <td>0</td>\n      <td>0.469106</td>\n      <td>-0.686464</td>\n    </tr>\n    <tr>\n      <td>22</td>\n      <td>56</td>\n      <td>64</td>\n      <td>6</td>\n      <td>6</td>\n      <td>5</td>\n      <td>0</td>\n      <td>1</td>\n      <td>2.088576</td>\n      <td>-1.407046</td>\n    </tr>\n    <tr>\n      <td>23</td>\n      <td>51</td>\n      <td>56</td>\n      <td>6</td>\n      <td>8</td>\n      <td>9</td>\n      <td>0</td>\n      <td>1</td>\n      <td>0.656809</td>\n      <td>1.289812</td>\n    </tr>\n    <tr>\n      <td>24</td>\n      <td>67</td>\n      <td>72</td>\n      <td>8</td>\n      <td>8</td>\n      <td>7</td>\n      <td>0</td>\n      <td>0</td>\n      <td>0.143623</td>\n      <td>-0.397674</td>\n    </tr>\n    <tr>\n      <td>25</td>\n      <td>23</td>\n      <td>34</td>\n      <td>8</td>\n      <td>7</td>\n      <td>8</td>\n      <td>0</td>\n      <td>1</td>\n      <td>1.837703</td>\n      <td>1.263905</td>\n    </tr>\n    <tr>\n      <td>26</td>\n      <td>21</td>\n      <td>14</td>\n      <td>2</td>\n      <td>5</td>\n      <td>8</td>\n      <td>0</td>\n      <td>1</td>\n      <td>4.121825</td>\n      <td>1.645918</td>\n    </tr>\n    <tr>\n      <td>27</td>\n      <td>87</td>\n      <td>64</td>\n      <td>9</td>\n      <td>10</td>\n      <td>9</td>\n      <td>1</td>\n      <td>0</td>\n      <td>-1.413711</td>\n      <td>0.908917</td>\n    </tr>\n    <tr>\n      <td>28</td>\n      <td>45</td>\n      <td>72</td>\n      <td>8</td>\n      <td>7</td>\n      <td>7</td>\n      <td>0</td>\n      <td>1</td>\n      <td>0.839772</td>\n      <td>-0.360858</td>\n    </tr>\n    <tr>\n      <td>29</td>\n      <td>34</td>\n      <td>45</td>\n      <td>8</td>\n      <td>2</td>\n      <td>7</td>\n      <td>0</td>\n      <td>1</td>\n      <td>2.812991</td>\n      <td>-1.085959</td>\n    </tr>\n    <tr>\n      <td>30</td>\n      <td>78</td>\n      <td>89</td>\n      <td>10</td>\n      <td>7</td>\n      <td>9</td>\n      <td>1</td>\n      <td>0</td>\n      <td>-1.318067</td>\n      <td>-0.472457</td>\n    </tr>\n  </tbody>\n</table>\n</div>"
     },
     "metadata": {},
     "execution_count": 40
    }
   ],
   "source": [
    "df['cluster'] = kmeans.labels_\n",
    "df['component1'] = df_pca[:, 0]\n",
    "df['component2'] = df_pca[:, 1]\n",
    "df"
   ]
  },
  {
   "cell_type": "code",
   "execution_count": 41,
   "metadata": {},
   "outputs": [
    {
     "output_type": "display_data",
     "data": {
      "text/plain": "<Figure size 432x288 with 1 Axes>",
      "image/svg+xml": "<?xml version=\"1.0\" encoding=\"utf-8\" standalone=\"no\"?>\r\n<!DOCTYPE svg PUBLIC \"-//W3C//DTD SVG 1.1//EN\"\r\n  \"http://www.w3.org/Graphics/SVG/1.1/DTD/svg11.dtd\">\r\n<!-- Created with matplotlib (https://matplotlib.org/) -->\r\n<svg height=\"248.518125pt\" version=\"1.1\" viewBox=\"0 0 380.482812 248.518125\" width=\"380.482812pt\" xmlns=\"http://www.w3.org/2000/svg\" xmlns:xlink=\"http://www.w3.org/1999/xlink\">\r\n <defs>\r\n  <style type=\"text/css\">\r\n*{stroke-linecap:butt;stroke-linejoin:round;}\r\n  </style>\r\n </defs>\r\n <g id=\"figure_1\">\r\n  <g id=\"patch_1\">\r\n   <path d=\"M -0 248.518125 \r\nL 380.482812 248.518125 \r\nL 380.482812 0 \r\nL -0 0 \r\nz\r\n\" style=\"fill:none;\"/>\r\n  </g>\r\n  <g id=\"axes_1\">\r\n   <g id=\"patch_2\">\r\n    <path d=\"M 38.482813 224.64 \r\nL 373.282813 224.64 \r\nL 373.282813 7.2 \r\nL 38.482813 7.2 \r\nz\r\n\" style=\"fill:#ffffff;\"/>\r\n   </g>\r\n   <g id=\"PathCollection_1\">\r\n    <defs>\r\n     <path d=\"M 0 3 \r\nC 0.795609 3 1.55874 2.683901 2.12132 2.12132 \r\nC 2.683901 1.55874 3 0.795609 3 0 \r\nC 3 -0.795609 2.683901 -1.55874 2.12132 -2.12132 \r\nC 1.55874 -2.683901 0.795609 -3 0 -3 \r\nC -0.795609 -3 -1.55874 -2.683901 -2.12132 -2.12132 \r\nC -2.683901 -1.55874 -3 -0.795609 -3 0 \r\nC -3 0.795609 -2.683901 1.55874 -2.12132 2.12132 \r\nC -1.55874 2.683901 -0.795609 3 0 3 \r\nz\r\n\" id=\"m4395a8d4ce\" style=\"stroke:#000000;\"/>\r\n    </defs>\r\n    <g clip-path=\"url(#p87158fa9a0)\">\r\n     <use style=\"fill:#1f77b4;stroke:#000000;\" x=\"102.721935\" xlink:href=\"#m4395a8d4ce\" y=\"175.080077\"/>\r\n     <use style=\"fill:#1f77b4;stroke:#000000;\" x=\"101.282812\" xlink:href=\"#m4395a8d4ce\" y=\"147.419182\"/>\r\n     <use style=\"fill:#1f77b4;stroke:#000000;\" x=\"54.098876\" xlink:href=\"#m4395a8d4ce\" y=\"112.561492\"/>\r\n     <use style=\"fill:#1f77b4;stroke:#000000;\" x=\"146.452692\" xlink:href=\"#m4395a8d4ce\" y=\"91.702643\"/>\r\n     <use style=\"fill:#1f77b4;stroke:#000000;\" x=\"194.213767\" xlink:href=\"#m4395a8d4ce\" y=\"154.329288\"/>\r\n     <use style=\"fill:#1f77b4;stroke:#000000;\" x=\"158.194087\" xlink:href=\"#m4395a8d4ce\" y=\"198.123339\"/>\r\n     <use style=\"fill:#1f77b4;stroke:#000000;\" x=\"161.080169\" xlink:href=\"#m4395a8d4ce\" y=\"213.92459\"/>\r\n     <use style=\"fill:#1f77b4;stroke:#000000;\" x=\"85.581644\" xlink:href=\"#m4395a8d4ce\" y=\"128.118593\"/>\r\n     <use style=\"fill:#1f77b4;stroke:#000000;\" x=\"166.778828\" xlink:href=\"#m4395a8d4ce\" y=\"76.567764\"/>\r\n     <use style=\"fill:#1f77b4;stroke:#000000;\" x=\"140.59154\" xlink:href=\"#m4395a8d4ce\" y=\"65.28026\"/>\r\n     <use style=\"fill:#1f77b4;stroke:#000000;\" x=\"96.765417\" xlink:href=\"#m4395a8d4ce\" y=\"85.385663\"/>\r\n     <use style=\"fill:#1f77b4;stroke:#000000;\" x=\"92.169045\" xlink:href=\"#m4395a8d4ce\" y=\"40.272325\"/>\r\n     <use style=\"fill:#1f77b4;stroke:#000000;\" x=\"58.415169\" xlink:href=\"#m4395a8d4ce\" y=\"78.624543\"/>\r\n     <use style=\"fill:#1f77b4;stroke:#000000;\" x=\"157.797881\" xlink:href=\"#m4395a8d4ce\" y=\"95.829287\"/>\r\n     <use style=\"fill:#1f77b4;stroke:#000000;\" x=\"144.61039\" xlink:href=\"#m4395a8d4ce\" y=\"205.66817\"/>\r\n     <use style=\"fill:#1f77b4;stroke:#000000;\" x=\"73.729749\" xlink:href=\"#m4395a8d4ce\" y=\"95.926763\"/>\r\n     <use style=\"fill:#1f77b4;stroke:#000000;\" x=\"107.555303\" xlink:href=\"#m4395a8d4ce\" y=\"138.634721\"/>\r\n     <use style=\"fill:#1f77b4;stroke:#000000;\" x=\"194.479306\" xlink:href=\"#m4395a8d4ce\" y=\"160.356643\"/>\r\n     <use style=\"fill:#1f77b4;stroke:#000000;\" x=\"180.026709\" xlink:href=\"#m4395a8d4ce\" y=\"142.946362\"/>\r\n     <use style=\"fill:#1f77b4;stroke:#000000;\" x=\"110.875493\" xlink:href=\"#m4395a8d4ce\" y=\"64.175899\"/>\r\n     <use style=\"fill:#1f77b4;stroke:#000000;\" x=\"115.122429\" xlink:href=\"#m4395a8d4ce\" y=\"147.454815\"/>\r\n    </g>\r\n   </g>\r\n   <g id=\"PathCollection_2\">\r\n    <defs>\r\n     <path d=\"M -3 3 \r\nL 3 3 \r\nL 3 -3 \r\nL -3 -3 \r\nz\r\n\" id=\"mb1ed278ceb\" style=\"stroke:#000000;\"/>\r\n    </defs>\r\n    <g clip-path=\"url(#p87158fa9a0)\">\r\n     <use style=\"fill:#ff7f0e;stroke:#000000;\" x=\"298.28297\" xlink:href=\"#mb1ed278ceb\" y=\"161.252034\"/>\r\n     <use style=\"fill:#ff7f0e;stroke:#000000;\" x=\"279.674803\" xlink:href=\"#mb1ed278ceb\" y=\"86.523909\"/>\r\n     <use style=\"fill:#ff7f0e;stroke:#000000;\" x=\"251.98086\" xlink:href=\"#mb1ed278ceb\" y=\"48.992937\"/>\r\n     <use style=\"fill:#ff7f0e;stroke:#000000;\" x=\"320.025854\" xlink:href=\"#mb1ed278ceb\" y=\"140.275658\"/>\r\n     <use style=\"fill:#ff7f0e;stroke:#000000;\" x=\"266.389569\" xlink:href=\"#mb1ed278ceb\" y=\"203.798366\"/>\r\n     <use style=\"fill:#ff7f0e;stroke:#000000;\" x=\"202.813967\" xlink:href=\"#mb1ed278ceb\" y=\"41.212935\"/>\r\n     <use style=\"fill:#ff7f0e;stroke:#000000;\" x=\"255.24992\" xlink:href=\"#mb1ed278ceb\" y=\"42.774769\"/>\r\n     <use style=\"fill:#ff7f0e;stroke:#000000;\" x=\"356.673109\" xlink:href=\"#mb1ed278ceb\" y=\"19.744334\"/>\r\n     <use style=\"fill:#ff7f0e;stroke:#000000;\" x=\"210.938178\" xlink:href=\"#mb1ed278ceb\" y=\"140.726839\"/>\r\n     <use style=\"fill:#ff7f0e;stroke:#000000;\" x=\"298.556199\" xlink:href=\"#mb1ed278ceb\" y=\"184.440998\"/>\r\n    </g>\r\n   </g>\r\n   <g id=\"matplotlib.axis_1\">\r\n    <g id=\"xtick_1\">\r\n     <g id=\"line2d_1\">\r\n      <defs>\r\n       <path d=\"M 0 0 \r\nL 0 3.5 \r\n\" id=\"m9e2d9118a6\" style=\"stroke:#000000;stroke-width:0.8;\"/>\r\n      </defs>\r\n      <g>\r\n       <use style=\"stroke:#000000;stroke-width:0.8;\" x=\"40.438554\" xlink:href=\"#m9e2d9118a6\" y=\"224.64\"/>\r\n      </g>\r\n     </g>\r\n     <g id=\"text_1\">\r\n      <!-- −3 -->\r\n      <defs>\r\n       <path d=\"M 10.59375 35.5 \r\nL 73.1875 35.5 \r\nL 73.1875 27.203125 \r\nL 10.59375 27.203125 \r\nz\r\n\" id=\"DejaVuSans-8722\"/>\r\n       <path d=\"M 40.578125 39.3125 \r\nQ 47.65625 37.796875 51.625 33 \r\nQ 55.609375 28.21875 55.609375 21.1875 \r\nQ 55.609375 10.40625 48.1875 4.484375 \r\nQ 40.765625 -1.421875 27.09375 -1.421875 \r\nQ 22.515625 -1.421875 17.65625 -0.515625 \r\nQ 12.796875 0.390625 7.625 2.203125 \r\nL 7.625 11.71875 \r\nQ 11.71875 9.328125 16.59375 8.109375 \r\nQ 21.484375 6.890625 26.8125 6.890625 \r\nQ 36.078125 6.890625 40.9375 10.546875 \r\nQ 45.796875 14.203125 45.796875 21.1875 \r\nQ 45.796875 27.640625 41.28125 31.265625 \r\nQ 36.765625 34.90625 28.71875 34.90625 \r\nL 20.21875 34.90625 \r\nL 20.21875 43.015625 \r\nL 29.109375 43.015625 \r\nQ 36.375 43.015625 40.234375 45.921875 \r\nQ 44.09375 48.828125 44.09375 54.296875 \r\nQ 44.09375 59.90625 40.109375 62.90625 \r\nQ 36.140625 65.921875 28.71875 65.921875 \r\nQ 24.65625 65.921875 20.015625 65.03125 \r\nQ 15.375 64.15625 9.8125 62.3125 \r\nL 9.8125 71.09375 \r\nQ 15.4375 72.65625 20.34375 73.4375 \r\nQ 25.25 74.21875 29.59375 74.21875 \r\nQ 40.828125 74.21875 47.359375 69.109375 \r\nQ 53.90625 64.015625 53.90625 55.328125 \r\nQ 53.90625 49.265625 50.4375 45.09375 \r\nQ 46.96875 40.921875 40.578125 39.3125 \r\nz\r\n\" id=\"DejaVuSans-51\"/>\r\n      </defs>\r\n      <g transform=\"translate(33.06746 239.238437)scale(0.1 -0.1)\">\r\n       <use xlink:href=\"#DejaVuSans-8722\"/>\r\n       <use x=\"83.789062\" xlink:href=\"#DejaVuSans-51\"/>\r\n      </g>\r\n     </g>\r\n    </g>\r\n    <g id=\"xtick_2\">\r\n     <g id=\"line2d_2\">\r\n      <g>\r\n       <use style=\"stroke:#000000;stroke-width:0.8;\" x=\"84.84214\" xlink:href=\"#m9e2d9118a6\" y=\"224.64\"/>\r\n      </g>\r\n     </g>\r\n     <g id=\"text_2\">\r\n      <!-- −2 -->\r\n      <defs>\r\n       <path d=\"M 19.1875 8.296875 \r\nL 53.609375 8.296875 \r\nL 53.609375 0 \r\nL 7.328125 0 \r\nL 7.328125 8.296875 \r\nQ 12.9375 14.109375 22.625 23.890625 \r\nQ 32.328125 33.6875 34.8125 36.53125 \r\nQ 39.546875 41.84375 41.421875 45.53125 \r\nQ 43.3125 49.21875 43.3125 52.78125 \r\nQ 43.3125 58.59375 39.234375 62.25 \r\nQ 35.15625 65.921875 28.609375 65.921875 \r\nQ 23.96875 65.921875 18.8125 64.3125 \r\nQ 13.671875 62.703125 7.8125 59.421875 \r\nL 7.8125 69.390625 \r\nQ 13.765625 71.78125 18.9375 73 \r\nQ 24.125 74.21875 28.421875 74.21875 \r\nQ 39.75 74.21875 46.484375 68.546875 \r\nQ 53.21875 62.890625 53.21875 53.421875 \r\nQ 53.21875 48.921875 51.53125 44.890625 \r\nQ 49.859375 40.875 45.40625 35.40625 \r\nQ 44.1875 33.984375 37.640625 27.21875 \r\nQ 31.109375 20.453125 19.1875 8.296875 \r\nz\r\n\" id=\"DejaVuSans-50\"/>\r\n      </defs>\r\n      <g transform=\"translate(77.471046 239.238437)scale(0.1 -0.1)\">\r\n       <use xlink:href=\"#DejaVuSans-8722\"/>\r\n       <use x=\"83.789062\" xlink:href=\"#DejaVuSans-50\"/>\r\n      </g>\r\n     </g>\r\n    </g>\r\n    <g id=\"xtick_3\">\r\n     <g id=\"line2d_3\">\r\n      <g>\r\n       <use style=\"stroke:#000000;stroke-width:0.8;\" x=\"129.245726\" xlink:href=\"#m9e2d9118a6\" y=\"224.64\"/>\r\n      </g>\r\n     </g>\r\n     <g id=\"text_3\">\r\n      <!-- −1 -->\r\n      <defs>\r\n       <path d=\"M 12.40625 8.296875 \r\nL 28.515625 8.296875 \r\nL 28.515625 63.921875 \r\nL 10.984375 60.40625 \r\nL 10.984375 69.390625 \r\nL 28.421875 72.90625 \r\nL 38.28125 72.90625 \r\nL 38.28125 8.296875 \r\nL 54.390625 8.296875 \r\nL 54.390625 0 \r\nL 12.40625 0 \r\nz\r\n\" id=\"DejaVuSans-49\"/>\r\n      </defs>\r\n      <g transform=\"translate(121.874632 239.238437)scale(0.1 -0.1)\">\r\n       <use xlink:href=\"#DejaVuSans-8722\"/>\r\n       <use x=\"83.789062\" xlink:href=\"#DejaVuSans-49\"/>\r\n      </g>\r\n     </g>\r\n    </g>\r\n    <g id=\"xtick_4\">\r\n     <g id=\"line2d_4\">\r\n      <g>\r\n       <use style=\"stroke:#000000;stroke-width:0.8;\" x=\"173.649312\" xlink:href=\"#m9e2d9118a6\" y=\"224.64\"/>\r\n      </g>\r\n     </g>\r\n     <g id=\"text_4\">\r\n      <!-- 0 -->\r\n      <defs>\r\n       <path d=\"M 31.78125 66.40625 \r\nQ 24.171875 66.40625 20.328125 58.90625 \r\nQ 16.5 51.421875 16.5 36.375 \r\nQ 16.5 21.390625 20.328125 13.890625 \r\nQ 24.171875 6.390625 31.78125 6.390625 \r\nQ 39.453125 6.390625 43.28125 13.890625 \r\nQ 47.125 21.390625 47.125 36.375 \r\nQ 47.125 51.421875 43.28125 58.90625 \r\nQ 39.453125 66.40625 31.78125 66.40625 \r\nz\r\nM 31.78125 74.21875 \r\nQ 44.046875 74.21875 50.515625 64.515625 \r\nQ 56.984375 54.828125 56.984375 36.375 \r\nQ 56.984375 17.96875 50.515625 8.265625 \r\nQ 44.046875 -1.421875 31.78125 -1.421875 \r\nQ 19.53125 -1.421875 13.0625 8.265625 \r\nQ 6.59375 17.96875 6.59375 36.375 \r\nQ 6.59375 54.828125 13.0625 64.515625 \r\nQ 19.53125 74.21875 31.78125 74.21875 \r\nz\r\n\" id=\"DejaVuSans-48\"/>\r\n      </defs>\r\n      <g transform=\"translate(170.468062 239.238437)scale(0.1 -0.1)\">\r\n       <use xlink:href=\"#DejaVuSans-48\"/>\r\n      </g>\r\n     </g>\r\n    </g>\r\n    <g id=\"xtick_5\">\r\n     <g id=\"line2d_5\">\r\n      <g>\r\n       <use style=\"stroke:#000000;stroke-width:0.8;\" x=\"218.052898\" xlink:href=\"#m9e2d9118a6\" y=\"224.64\"/>\r\n      </g>\r\n     </g>\r\n     <g id=\"text_5\">\r\n      <!-- 1 -->\r\n      <g transform=\"translate(214.871648 239.238437)scale(0.1 -0.1)\">\r\n       <use xlink:href=\"#DejaVuSans-49\"/>\r\n      </g>\r\n     </g>\r\n    </g>\r\n    <g id=\"xtick_6\">\r\n     <g id=\"line2d_6\">\r\n      <g>\r\n       <use style=\"stroke:#000000;stroke-width:0.8;\" x=\"262.456484\" xlink:href=\"#m9e2d9118a6\" y=\"224.64\"/>\r\n      </g>\r\n     </g>\r\n     <g id=\"text_6\">\r\n      <!-- 2 -->\r\n      <g transform=\"translate(259.275234 239.238437)scale(0.1 -0.1)\">\r\n       <use xlink:href=\"#DejaVuSans-50\"/>\r\n      </g>\r\n     </g>\r\n    </g>\r\n    <g id=\"xtick_7\">\r\n     <g id=\"line2d_7\">\r\n      <g>\r\n       <use style=\"stroke:#000000;stroke-width:0.8;\" x=\"306.86007\" xlink:href=\"#m9e2d9118a6\" y=\"224.64\"/>\r\n      </g>\r\n     </g>\r\n     <g id=\"text_7\">\r\n      <!-- 3 -->\r\n      <g transform=\"translate(303.67882 239.238437)scale(0.1 -0.1)\">\r\n       <use xlink:href=\"#DejaVuSans-51\"/>\r\n      </g>\r\n     </g>\r\n    </g>\r\n    <g id=\"xtick_8\">\r\n     <g id=\"line2d_8\">\r\n      <g>\r\n       <use style=\"stroke:#000000;stroke-width:0.8;\" x=\"351.263656\" xlink:href=\"#m9e2d9118a6\" y=\"224.64\"/>\r\n      </g>\r\n     </g>\r\n     <g id=\"text_8\">\r\n      <!-- 4 -->\r\n      <defs>\r\n       <path d=\"M 37.796875 64.3125 \r\nL 12.890625 25.390625 \r\nL 37.796875 25.390625 \r\nz\r\nM 35.203125 72.90625 \r\nL 47.609375 72.90625 \r\nL 47.609375 25.390625 \r\nL 58.015625 25.390625 \r\nL 58.015625 17.1875 \r\nL 47.609375 17.1875 \r\nL 47.609375 0 \r\nL 37.796875 0 \r\nL 37.796875 17.1875 \r\nL 4.890625 17.1875 \r\nL 4.890625 26.703125 \r\nz\r\n\" id=\"DejaVuSans-52\"/>\r\n      </defs>\r\n      <g transform=\"translate(348.082406 239.238437)scale(0.1 -0.1)\">\r\n       <use xlink:href=\"#DejaVuSans-52\"/>\r\n      </g>\r\n     </g>\r\n    </g>\r\n   </g>\r\n   <g id=\"matplotlib.axis_2\">\r\n    <g id=\"ytick_1\">\r\n     <g id=\"line2d_9\">\r\n      <defs>\r\n       <path d=\"M 0 0 \r\nL -3.5 0 \r\n\" id=\"m65240ff023\" style=\"stroke:#000000;stroke-width:0.8;\"/>\r\n      </defs>\r\n      <g>\r\n       <use style=\"stroke:#000000;stroke-width:0.8;\" x=\"38.482813\" xlink:href=\"#m65240ff023\" y=\"209.402254\"/>\r\n      </g>\r\n     </g>\r\n     <g id=\"text_9\">\r\n      <!-- −1.5 -->\r\n      <defs>\r\n       <path d=\"M 10.6875 12.40625 \r\nL 21 12.40625 \r\nL 21 0 \r\nL 10.6875 0 \r\nz\r\n\" id=\"DejaVuSans-46\"/>\r\n       <path d=\"M 10.796875 72.90625 \r\nL 49.515625 72.90625 \r\nL 49.515625 64.59375 \r\nL 19.828125 64.59375 \r\nL 19.828125 46.734375 \r\nQ 21.96875 47.46875 24.109375 47.828125 \r\nQ 26.265625 48.1875 28.421875 48.1875 \r\nQ 40.625 48.1875 47.75 41.5 \r\nQ 54.890625 34.8125 54.890625 23.390625 \r\nQ 54.890625 11.625 47.5625 5.09375 \r\nQ 40.234375 -1.421875 26.90625 -1.421875 \r\nQ 22.3125 -1.421875 17.546875 -0.640625 \r\nQ 12.796875 0.140625 7.71875 1.703125 \r\nL 7.71875 11.625 \r\nQ 12.109375 9.234375 16.796875 8.0625 \r\nQ 21.484375 6.890625 26.703125 6.890625 \r\nQ 35.15625 6.890625 40.078125 11.328125 \r\nQ 45.015625 15.765625 45.015625 23.390625 \r\nQ 45.015625 31 40.078125 35.4375 \r\nQ 35.15625 39.890625 26.703125 39.890625 \r\nQ 22.75 39.890625 18.8125 39.015625 \r\nQ 14.890625 38.140625 10.796875 36.28125 \r\nz\r\n\" id=\"DejaVuSans-53\"/>\r\n      </defs>\r\n      <g transform=\"translate(7.2 213.201473)scale(0.1 -0.1)\">\r\n       <use xlink:href=\"#DejaVuSans-8722\"/>\r\n       <use x=\"83.789062\" xlink:href=\"#DejaVuSans-49\"/>\r\n       <use x=\"147.412109\" xlink:href=\"#DejaVuSans-46\"/>\r\n       <use x=\"179.199219\" xlink:href=\"#DejaVuSans-53\"/>\r\n      </g>\r\n     </g>\r\n    </g>\r\n    <g id=\"ytick_2\">\r\n     <g id=\"line2d_10\">\r\n      <g>\r\n       <use style=\"stroke:#000000;stroke-width:0.8;\" x=\"38.482813\" xlink:href=\"#m65240ff023\" y=\"179.258763\"/>\r\n      </g>\r\n     </g>\r\n     <g id=\"text_10\">\r\n      <!-- −1.0 -->\r\n      <g transform=\"translate(7.2 183.057982)scale(0.1 -0.1)\">\r\n       <use xlink:href=\"#DejaVuSans-8722\"/>\r\n       <use x=\"83.789062\" xlink:href=\"#DejaVuSans-49\"/>\r\n       <use x=\"147.412109\" xlink:href=\"#DejaVuSans-46\"/>\r\n       <use x=\"179.199219\" xlink:href=\"#DejaVuSans-48\"/>\r\n      </g>\r\n     </g>\r\n    </g>\r\n    <g id=\"ytick_3\">\r\n     <g id=\"line2d_11\">\r\n      <g>\r\n       <use style=\"stroke:#000000;stroke-width:0.8;\" x=\"38.482813\" xlink:href=\"#m65240ff023\" y=\"149.115272\"/>\r\n      </g>\r\n     </g>\r\n     <g id=\"text_11\">\r\n      <!-- −0.5 -->\r\n      <g transform=\"translate(7.2 152.914491)scale(0.1 -0.1)\">\r\n       <use xlink:href=\"#DejaVuSans-8722\"/>\r\n       <use x=\"83.789062\" xlink:href=\"#DejaVuSans-48\"/>\r\n       <use x=\"147.412109\" xlink:href=\"#DejaVuSans-46\"/>\r\n       <use x=\"179.199219\" xlink:href=\"#DejaVuSans-53\"/>\r\n      </g>\r\n     </g>\r\n    </g>\r\n    <g id=\"ytick_4\">\r\n     <g id=\"line2d_12\">\r\n      <g>\r\n       <use style=\"stroke:#000000;stroke-width:0.8;\" x=\"38.482813\" xlink:href=\"#m65240ff023\" y=\"118.971781\"/>\r\n      </g>\r\n     </g>\r\n     <g id=\"text_12\">\r\n      <!-- 0.0 -->\r\n      <g transform=\"translate(15.579688 122.770999)scale(0.1 -0.1)\">\r\n       <use xlink:href=\"#DejaVuSans-48\"/>\r\n       <use x=\"63.623047\" xlink:href=\"#DejaVuSans-46\"/>\r\n       <use x=\"95.410156\" xlink:href=\"#DejaVuSans-48\"/>\r\n      </g>\r\n     </g>\r\n    </g>\r\n    <g id=\"ytick_5\">\r\n     <g id=\"line2d_13\">\r\n      <g>\r\n       <use style=\"stroke:#000000;stroke-width:0.8;\" x=\"38.482813\" xlink:href=\"#m65240ff023\" y=\"88.828289\"/>\r\n      </g>\r\n     </g>\r\n     <g id=\"text_13\">\r\n      <!-- 0.5 -->\r\n      <g transform=\"translate(15.579688 92.627508)scale(0.1 -0.1)\">\r\n       <use xlink:href=\"#DejaVuSans-48\"/>\r\n       <use x=\"63.623047\" xlink:href=\"#DejaVuSans-46\"/>\r\n       <use x=\"95.410156\" xlink:href=\"#DejaVuSans-53\"/>\r\n      </g>\r\n     </g>\r\n    </g>\r\n    <g id=\"ytick_6\">\r\n     <g id=\"line2d_14\">\r\n      <g>\r\n       <use style=\"stroke:#000000;stroke-width:0.8;\" x=\"38.482813\" xlink:href=\"#m65240ff023\" y=\"58.684798\"/>\r\n      </g>\r\n     </g>\r\n     <g id=\"text_14\">\r\n      <!-- 1.0 -->\r\n      <g transform=\"translate(15.579688 62.484017)scale(0.1 -0.1)\">\r\n       <use xlink:href=\"#DejaVuSans-49\"/>\r\n       <use x=\"63.623047\" xlink:href=\"#DejaVuSans-46\"/>\r\n       <use x=\"95.410156\" xlink:href=\"#DejaVuSans-48\"/>\r\n      </g>\r\n     </g>\r\n    </g>\r\n    <g id=\"ytick_7\">\r\n     <g id=\"line2d_15\">\r\n      <g>\r\n       <use style=\"stroke:#000000;stroke-width:0.8;\" x=\"38.482813\" xlink:href=\"#m65240ff023\" y=\"28.541307\"/>\r\n      </g>\r\n     </g>\r\n     <g id=\"text_15\">\r\n      <!-- 1.5 -->\r\n      <g transform=\"translate(15.579688 32.340526)scale(0.1 -0.1)\">\r\n       <use xlink:href=\"#DejaVuSans-49\"/>\r\n       <use x=\"63.623047\" xlink:href=\"#DejaVuSans-46\"/>\r\n       <use x=\"95.410156\" xlink:href=\"#DejaVuSans-53\"/>\r\n      </g>\r\n     </g>\r\n    </g>\r\n   </g>\r\n   <g id=\"patch_3\">\r\n    <path d=\"M 38.482813 224.64 \r\nL 38.482813 7.2 \r\n\" style=\"fill:none;stroke:#000000;stroke-linecap:square;stroke-linejoin:miter;stroke-width:0.8;\"/>\r\n   </g>\r\n   <g id=\"patch_4\">\r\n    <path d=\"M 373.282813 224.64 \r\nL 373.282813 7.2 \r\n\" style=\"fill:none;stroke:#000000;stroke-linecap:square;stroke-linejoin:miter;stroke-width:0.8;\"/>\r\n   </g>\r\n   <g id=\"patch_5\">\r\n    <path d=\"M 38.482812 224.64 \r\nL 373.282812 224.64 \r\n\" style=\"fill:none;stroke:#000000;stroke-linecap:square;stroke-linejoin:miter;stroke-width:0.8;\"/>\r\n   </g>\r\n   <g id=\"patch_6\">\r\n    <path d=\"M 38.482812 7.2 \r\nL 373.282812 7.2 \r\n\" style=\"fill:none;stroke:#000000;stroke-linecap:square;stroke-linejoin:miter;stroke-width:0.8;\"/>\r\n   </g>\r\n  </g>\r\n </g>\r\n <defs>\r\n  <clipPath id=\"p87158fa9a0\">\r\n   <rect height=\"217.44\" width=\"334.8\" x=\"38.482813\" y=\"7.2\"/>\r\n  </clipPath>\r\n </defs>\r\n</svg>\r\n",
      "image/png": "[encoded data removed]"
     },
     "metadata": {
      "needs_background": "light"
     }
    }
   ],
   "source": [
    "df['KMeans_label'] = cluster_labels\n",
    "centers = kmeans.cluster_centers_\n",
    "unique_labels = np.unique(cluster_labels)\n",
    "markers = ['o', 's']\n",
    "\n",
    "for label in unique_labels:\n",
    "    label_cluster = df[df['KMeans_label'] == label]\n",
    "    center = centers[label]\n",
    "    plt.scatter(x=label_cluster['component1'], y=label_cluster['component2'], edgecolor='k', marker=markers[label])\n",
    "plt.show()"
   ]
  },
  {
   "cell_type": "code",
   "execution_count": null,
   "metadata": {},
   "outputs": [],
   "source": []
  }
 ]
}